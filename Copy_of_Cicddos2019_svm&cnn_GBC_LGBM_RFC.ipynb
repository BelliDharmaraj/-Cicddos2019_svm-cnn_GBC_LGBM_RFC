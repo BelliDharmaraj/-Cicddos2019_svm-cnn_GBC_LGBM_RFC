{
  "cells": [
    {
      "cell_type": "code",
      "execution_count": null,
      "metadata": {
        "id": "YCgZFANSVajR"
      },
      "outputs": [],
      "source": [
        "import numpy as np # linear algebra\n",
        "import pandas as pd # data processing, CSV file I/O (e.g. pd.read_csv)\n",
        "import seaborn as sns\n",
        "import matplotlib.pyplot as plt\n",
        "# import warnings\n",
        "import warnings\n",
        "# filter warnings\n",
        "warnings.filterwarnings('ignore')"
      ]
    },
    {
      "cell_type": "code",
      "execution_count": null,
      "metadata": {
        "colab": {
          "base_uri": "https://localhost:8080/",
          "height": 35
        },
        "id": "wuc8ti-cWAtH",
        "outputId": "1333f5b3-200b-42d8-b246-dd096a8b75cc"
      },
      "outputs": [
        {
          "output_type": "execute_result",
          "data": {
            "text/plain": [
              "'/content'"
            ],
            "application/vnd.google.colaboratory.intrinsic+json": {
              "type": "string"
            }
          },
          "metadata": {},
          "execution_count": 74
        }
      ],
      "source": [
        "pwd"
      ]
    },
    {
      "cell_type": "code",
      "execution_count": null,
      "metadata": {
        "id": "MQu5g837Vu57"
      },
      "outputs": [],
      "source": [
        "df = pd.read_csv(\"/content/cicddos2019_dataset.csv\")"
      ]
    },
    {
      "cell_type": "code",
      "execution_count": null,
      "metadata": {
        "colab": {
          "base_uri": "https://localhost:8080/",
          "height": 352
        },
        "id": "ZUebLtIXWF86",
        "outputId": "dc233788-7a8e-4344-af22-8ca6da18e432"
      },
      "outputs": [
        {
          "output_type": "execute_result",
          "data": {
            "text/plain": [
              "   Unnamed: 0  Protocol  Flow Duration  Total Fwd Packets  \\\n",
              "0           0        17         216631                  6   \n",
              "1           1        17              2                  2   \n",
              "2           2        17             48                  2   \n",
              "3           3        17         107319                  4   \n",
              "4           4        17         107271                  4   \n",
              "\n",
              "   Total Backward Packets  Fwd Packets Length Total  Bwd Packets Length Total  \\\n",
              "0                       0                    2088.0                       0.0   \n",
              "1                       0                     802.0                       0.0   \n",
              "2                       0                     766.0                       0.0   \n",
              "3                       0                    1398.0                       0.0   \n",
              "4                       0                    1438.0                       0.0   \n",
              "\n",
              "   Fwd Packet Length Max  Fwd Packet Length Min  Fwd Packet Length Mean  ...  \\\n",
              "0                  393.0                  321.0                   348.0  ...   \n",
              "1                  401.0                  401.0                   401.0  ...   \n",
              "2                  383.0                  383.0                   383.0  ...   \n",
              "3                  369.0                  330.0                   349.5  ...   \n",
              "4                  389.0                  330.0                   359.5  ...   \n",
              "\n",
              "   Active Mean  Active Std  Active Max  Active Min  Idle Mean  Idle Std  \\\n",
              "0          0.0         0.0         0.0         0.0        0.0       0.0   \n",
              "1          0.0         0.0         0.0         0.0        0.0       0.0   \n",
              "2          0.0         0.0         0.0         0.0        0.0       0.0   \n",
              "3          0.0         0.0         0.0         0.0        0.0       0.0   \n",
              "4          0.0         0.0         0.0         0.0        0.0       0.0   \n",
              "\n",
              "   Idle Max  Idle Min  Label   Class  \n",
              "0       0.0       0.0    UDP  Attack  \n",
              "1       0.0       0.0    UDP  Attack  \n",
              "2       0.0       0.0    UDP  Attack  \n",
              "3       0.0       0.0    UDP  Attack  \n",
              "4       0.0       0.0    UDP  Attack  \n",
              "\n",
              "[5 rows x 80 columns]"
            ],
            "text/html": [
              "\n",
              "  <div id=\"df-b6daa663-15b0-423f-b002-2be2a6eb4927\">\n",
              "    <div class=\"colab-df-container\">\n",
              "      <div>\n",
              "<style scoped>\n",
              "    .dataframe tbody tr th:only-of-type {\n",
              "        vertical-align: middle;\n",
              "    }\n",
              "\n",
              "    .dataframe tbody tr th {\n",
              "        vertical-align: top;\n",
              "    }\n",
              "\n",
              "    .dataframe thead th {\n",
              "        text-align: right;\n",
              "    }\n",
              "</style>\n",
              "<table border=\"1\" class=\"dataframe\">\n",
              "  <thead>\n",
              "    <tr style=\"text-align: right;\">\n",
              "      <th></th>\n",
              "      <th>Unnamed: 0</th>\n",
              "      <th>Protocol</th>\n",
              "      <th>Flow Duration</th>\n",
              "      <th>Total Fwd Packets</th>\n",
              "      <th>Total Backward Packets</th>\n",
              "      <th>Fwd Packets Length Total</th>\n",
              "      <th>Bwd Packets Length Total</th>\n",
              "      <th>Fwd Packet Length Max</th>\n",
              "      <th>Fwd Packet Length Min</th>\n",
              "      <th>Fwd Packet Length Mean</th>\n",
              "      <th>...</th>\n",
              "      <th>Active Mean</th>\n",
              "      <th>Active Std</th>\n",
              "      <th>Active Max</th>\n",
              "      <th>Active Min</th>\n",
              "      <th>Idle Mean</th>\n",
              "      <th>Idle Std</th>\n",
              "      <th>Idle Max</th>\n",
              "      <th>Idle Min</th>\n",
              "      <th>Label</th>\n",
              "      <th>Class</th>\n",
              "    </tr>\n",
              "  </thead>\n",
              "  <tbody>\n",
              "    <tr>\n",
              "      <th>0</th>\n",
              "      <td>0</td>\n",
              "      <td>17</td>\n",
              "      <td>216631</td>\n",
              "      <td>6</td>\n",
              "      <td>0</td>\n",
              "      <td>2088.0</td>\n",
              "      <td>0.0</td>\n",
              "      <td>393.0</td>\n",
              "      <td>321.0</td>\n",
              "      <td>348.0</td>\n",
              "      <td>...</td>\n",
              "      <td>0.0</td>\n",
              "      <td>0.0</td>\n",
              "      <td>0.0</td>\n",
              "      <td>0.0</td>\n",
              "      <td>0.0</td>\n",
              "      <td>0.0</td>\n",
              "      <td>0.0</td>\n",
              "      <td>0.0</td>\n",
              "      <td>UDP</td>\n",
              "      <td>Attack</td>\n",
              "    </tr>\n",
              "    <tr>\n",
              "      <th>1</th>\n",
              "      <td>1</td>\n",
              "      <td>17</td>\n",
              "      <td>2</td>\n",
              "      <td>2</td>\n",
              "      <td>0</td>\n",
              "      <td>802.0</td>\n",
              "      <td>0.0</td>\n",
              "      <td>401.0</td>\n",
              "      <td>401.0</td>\n",
              "      <td>401.0</td>\n",
              "      <td>...</td>\n",
              "      <td>0.0</td>\n",
              "      <td>0.0</td>\n",
              "      <td>0.0</td>\n",
              "      <td>0.0</td>\n",
              "      <td>0.0</td>\n",
              "      <td>0.0</td>\n",
              "      <td>0.0</td>\n",
              "      <td>0.0</td>\n",
              "      <td>UDP</td>\n",
              "      <td>Attack</td>\n",
              "    </tr>\n",
              "    <tr>\n",
              "      <th>2</th>\n",
              "      <td>2</td>\n",
              "      <td>17</td>\n",
              "      <td>48</td>\n",
              "      <td>2</td>\n",
              "      <td>0</td>\n",
              "      <td>766.0</td>\n",
              "      <td>0.0</td>\n",
              "      <td>383.0</td>\n",
              "      <td>383.0</td>\n",
              "      <td>383.0</td>\n",
              "      <td>...</td>\n",
              "      <td>0.0</td>\n",
              "      <td>0.0</td>\n",
              "      <td>0.0</td>\n",
              "      <td>0.0</td>\n",
              "      <td>0.0</td>\n",
              "      <td>0.0</td>\n",
              "      <td>0.0</td>\n",
              "      <td>0.0</td>\n",
              "      <td>UDP</td>\n",
              "      <td>Attack</td>\n",
              "    </tr>\n",
              "    <tr>\n",
              "      <th>3</th>\n",
              "      <td>3</td>\n",
              "      <td>17</td>\n",
              "      <td>107319</td>\n",
              "      <td>4</td>\n",
              "      <td>0</td>\n",
              "      <td>1398.0</td>\n",
              "      <td>0.0</td>\n",
              "      <td>369.0</td>\n",
              "      <td>330.0</td>\n",
              "      <td>349.5</td>\n",
              "      <td>...</td>\n",
              "      <td>0.0</td>\n",
              "      <td>0.0</td>\n",
              "      <td>0.0</td>\n",
              "      <td>0.0</td>\n",
              "      <td>0.0</td>\n",
              "      <td>0.0</td>\n",
              "      <td>0.0</td>\n",
              "      <td>0.0</td>\n",
              "      <td>UDP</td>\n",
              "      <td>Attack</td>\n",
              "    </tr>\n",
              "    <tr>\n",
              "      <th>4</th>\n",
              "      <td>4</td>\n",
              "      <td>17</td>\n",
              "      <td>107271</td>\n",
              "      <td>4</td>\n",
              "      <td>0</td>\n",
              "      <td>1438.0</td>\n",
              "      <td>0.0</td>\n",
              "      <td>389.0</td>\n",
              "      <td>330.0</td>\n",
              "      <td>359.5</td>\n",
              "      <td>...</td>\n",
              "      <td>0.0</td>\n",
              "      <td>0.0</td>\n",
              "      <td>0.0</td>\n",
              "      <td>0.0</td>\n",
              "      <td>0.0</td>\n",
              "      <td>0.0</td>\n",
              "      <td>0.0</td>\n",
              "      <td>0.0</td>\n",
              "      <td>UDP</td>\n",
              "      <td>Attack</td>\n",
              "    </tr>\n",
              "  </tbody>\n",
              "</table>\n",
              "<p>5 rows × 80 columns</p>\n",
              "</div>\n",
              "      <button class=\"colab-df-convert\" onclick=\"convertToInteractive('df-b6daa663-15b0-423f-b002-2be2a6eb4927')\"\n",
              "              title=\"Convert this dataframe to an interactive table.\"\n",
              "              style=\"display:none;\">\n",
              "        \n",
              "  <svg xmlns=\"http://www.w3.org/2000/svg\" height=\"24px\"viewBox=\"0 0 24 24\"\n",
              "       width=\"24px\">\n",
              "    <path d=\"M0 0h24v24H0V0z\" fill=\"none\"/>\n",
              "    <path d=\"M18.56 5.44l.94 2.06.94-2.06 2.06-.94-2.06-.94-.94-2.06-.94 2.06-2.06.94zm-11 1L8.5 8.5l.94-2.06 2.06-.94-2.06-.94L8.5 2.5l-.94 2.06-2.06.94zm10 10l.94 2.06.94-2.06 2.06-.94-2.06-.94-.94-2.06-.94 2.06-2.06.94z\"/><path d=\"M17.41 7.96l-1.37-1.37c-.4-.4-.92-.59-1.43-.59-.52 0-1.04.2-1.43.59L10.3 9.45l-7.72 7.72c-.78.78-.78 2.05 0 2.83L4 21.41c.39.39.9.59 1.41.59.51 0 1.02-.2 1.41-.59l7.78-7.78 2.81-2.81c.8-.78.8-2.07 0-2.86zM5.41 20L4 18.59l7.72-7.72 1.47 1.35L5.41 20z\"/>\n",
              "  </svg>\n",
              "      </button>\n",
              "      \n",
              "  <style>\n",
              "    .colab-df-container {\n",
              "      display:flex;\n",
              "      flex-wrap:wrap;\n",
              "      gap: 12px;\n",
              "    }\n",
              "\n",
              "    .colab-df-convert {\n",
              "      background-color: #E8F0FE;\n",
              "      border: none;\n",
              "      border-radius: 50%;\n",
              "      cursor: pointer;\n",
              "      display: none;\n",
              "      fill: #1967D2;\n",
              "      height: 32px;\n",
              "      padding: 0 0 0 0;\n",
              "      width: 32px;\n",
              "    }\n",
              "\n",
              "    .colab-df-convert:hover {\n",
              "      background-color: #E2EBFA;\n",
              "      box-shadow: 0px 1px 2px rgba(60, 64, 67, 0.3), 0px 1px 3px 1px rgba(60, 64, 67, 0.15);\n",
              "      fill: #174EA6;\n",
              "    }\n",
              "\n",
              "    [theme=dark] .colab-df-convert {\n",
              "      background-color: #3B4455;\n",
              "      fill: #D2E3FC;\n",
              "    }\n",
              "\n",
              "    [theme=dark] .colab-df-convert:hover {\n",
              "      background-color: #434B5C;\n",
              "      box-shadow: 0px 1px 3px 1px rgba(0, 0, 0, 0.15);\n",
              "      filter: drop-shadow(0px 1px 2px rgba(0, 0, 0, 0.3));\n",
              "      fill: #FFFFFF;\n",
              "    }\n",
              "  </style>\n",
              "\n",
              "      <script>\n",
              "        const buttonEl =\n",
              "          document.querySelector('#df-b6daa663-15b0-423f-b002-2be2a6eb4927 button.colab-df-convert');\n",
              "        buttonEl.style.display =\n",
              "          google.colab.kernel.accessAllowed ? 'block' : 'none';\n",
              "\n",
              "        async function convertToInteractive(key) {\n",
              "          const element = document.querySelector('#df-b6daa663-15b0-423f-b002-2be2a6eb4927');\n",
              "          const dataTable =\n",
              "            await google.colab.kernel.invokeFunction('convertToInteractive',\n",
              "                                                     [key], {});\n",
              "          if (!dataTable) return;\n",
              "\n",
              "          const docLinkHtml = 'Like what you see? Visit the ' +\n",
              "            '<a target=\"_blank\" href=https://colab.research.google.com/notebooks/data_table.ipynb>data table notebook</a>'\n",
              "            + ' to learn more about interactive tables.';\n",
              "          element.innerHTML = '';\n",
              "          dataTable['output_type'] = 'display_data';\n",
              "          await google.colab.output.renderOutput(dataTable, element);\n",
              "          const docLink = document.createElement('div');\n",
              "          docLink.innerHTML = docLinkHtml;\n",
              "          element.appendChild(docLink);\n",
              "        }\n",
              "      </script>\n",
              "    </div>\n",
              "  </div>\n",
              "  "
            ]
          },
          "metadata": {},
          "execution_count": 76
        }
      ],
      "source": [
        "df.head()"
      ]
    },
    {
      "cell_type": "code",
      "execution_count": null,
      "metadata": {
        "colab": {
          "base_uri": "https://localhost:8080/"
        },
        "id": "njU6o1hGWI7m",
        "outputId": "686090c6-5a53-43e0-f0fe-c1f80eadaf8b"
      },
      "outputs": [
        {
          "output_type": "execute_result",
          "data": {
            "text/plain": [
              "Index(['Unnamed: 0', 'Protocol', 'Flow Duration', 'Total Fwd Packets',\n",
              "       'Total Backward Packets', 'Fwd Packets Length Total',\n",
              "       'Bwd Packets Length Total', 'Fwd Packet Length Max',\n",
              "       'Fwd Packet Length Min', 'Fwd Packet Length Mean',\n",
              "       'Fwd Packet Length Std', 'Bwd Packet Length Max',\n",
              "       'Bwd Packet Length Min', 'Bwd Packet Length Mean',\n",
              "       'Bwd Packet Length Std', 'Flow Bytes/s', 'Flow Packets/s',\n",
              "       'Flow IAT Mean', 'Flow IAT Std', 'Flow IAT Max', 'Flow IAT Min',\n",
              "       'Fwd IAT Total', 'Fwd IAT Mean', 'Fwd IAT Std', 'Fwd IAT Max',\n",
              "       'Fwd IAT Min', 'Bwd IAT Total', 'Bwd IAT Mean', 'Bwd IAT Std',\n",
              "       'Bwd IAT Max', 'Bwd IAT Min', 'Fwd PSH Flags', 'Bwd PSH Flags',\n",
              "       'Fwd URG Flags', 'Bwd URG Flags', 'Fwd Header Length',\n",
              "       'Bwd Header Length', 'Fwd Packets/s', 'Bwd Packets/s',\n",
              "       'Packet Length Min', 'Packet Length Max', 'Packet Length Mean',\n",
              "       'Packet Length Std', 'Packet Length Variance', 'FIN Flag Count',\n",
              "       'SYN Flag Count', 'RST Flag Count', 'PSH Flag Count', 'ACK Flag Count',\n",
              "       'URG Flag Count', 'CWE Flag Count', 'ECE Flag Count', 'Down/Up Ratio',\n",
              "       'Avg Packet Size', 'Avg Fwd Segment Size', 'Avg Bwd Segment Size',\n",
              "       'Fwd Avg Bytes/Bulk', 'Fwd Avg Packets/Bulk', 'Fwd Avg Bulk Rate',\n",
              "       'Bwd Avg Bytes/Bulk', 'Bwd Avg Packets/Bulk', 'Bwd Avg Bulk Rate',\n",
              "       'Subflow Fwd Packets', 'Subflow Fwd Bytes', 'Subflow Bwd Packets',\n",
              "       'Subflow Bwd Bytes', 'Init Fwd Win Bytes', 'Init Bwd Win Bytes',\n",
              "       'Fwd Act Data Packets', 'Fwd Seg Size Min', 'Active Mean', 'Active Std',\n",
              "       'Active Max', 'Active Min', 'Idle Mean', 'Idle Std', 'Idle Max',\n",
              "       'Idle Min', 'Label', 'Class'],\n",
              "      dtype='object')"
            ]
          },
          "metadata": {},
          "execution_count": 77
        }
      ],
      "source": [
        "df.columns"
      ]
    },
    {
      "cell_type": "code",
      "execution_count": null,
      "metadata": {
        "colab": {
          "base_uri": "https://localhost:8080/"
        },
        "id": "MobFfTwEp22X",
        "outputId": "556fc2a0-07d8-48ce-de47-54f299bf7e46"
      },
      "outputs": [
        {
          "output_type": "execute_result",
          "data": {
            "text/plain": [
              "(110560, 80)"
            ]
          },
          "metadata": {},
          "execution_count": 78
        }
      ],
      "source": [
        "df.shape"
      ]
    },
    {
      "cell_type": "code",
      "execution_count": null,
      "metadata": {
        "colab": {
          "base_uri": "https://localhost:8080/"
        },
        "id": "Y6SEPI-dWroU",
        "outputId": "a7e7ee2e-0fee-4884-d9ef-a1450a3c9e03"
      },
      "outputs": [
        {
          "output_type": "execute_result",
          "data": {
            "text/plain": [
              "Unnamed: 0                0\n",
              "Protocol                  0\n",
              "Flow Duration             0\n",
              "Total Fwd Packets         0\n",
              "Total Backward Packets    0\n",
              "                         ..\n",
              "Idle Std                  1\n",
              "Idle Max                  1\n",
              "Idle Min                  1\n",
              "Label                     1\n",
              "Class                     1\n",
              "Length: 80, dtype: int64"
            ]
          },
          "metadata": {},
          "execution_count": 79
        }
      ],
      "source": [
        "df.isna().sum()"
      ]
    },
    {
      "cell_type": "code",
      "execution_count": null,
      "metadata": {
        "colab": {
          "base_uri": "https://localhost:8080/"
        },
        "id": "TlB7yB3_WQyc",
        "outputId": "fda437b6-6804-40a4-eca5-08f453818d76"
      },
      "outputs": [
        {
          "output_type": "execute_result",
          "data": {
            "text/plain": [
              "Syn        48840\n",
              "Benign     40216\n",
              "UDP        18090\n",
              "LDAP        1884\n",
              "Portmap      685\n",
              "NetBIOS      644\n",
              "MSSQL        145\n",
              "UDPLag        55\n",
              "Name: Label, dtype: int64"
            ]
          },
          "metadata": {},
          "execution_count": 80
        }
      ],
      "source": [
        "df.Label.value_counts()"
      ]
    },
    {
      "cell_type": "code",
      "execution_count": null,
      "metadata": {
        "colab": {
          "base_uri": "https://localhost:8080/"
        },
        "id": "u3Bdn1qaWa2s",
        "outputId": "67f91286-d0bd-4ee5-96da-ddebae61cebb"
      },
      "outputs": [
        {
          "output_type": "execute_result",
          "data": {
            "text/plain": [
              "Attack    70343\n",
              "Benign    40216\n",
              "Name: Class, dtype: int64"
            ]
          },
          "metadata": {},
          "execution_count": 81
        }
      ],
      "source": [
        "df.Class.value_counts()"
      ]
    },
    {
      "cell_type": "code",
      "source": [
        "df.Label.value_counts()"
      ],
      "metadata": {
        "colab": {
          "base_uri": "https://localhost:8080/"
        },
        "id": "TYQR0nbM0wCF",
        "outputId": "417f168f-586c-4c51-ffaa-0545be8ee607"
      },
      "execution_count": null,
      "outputs": [
        {
          "output_type": "execute_result",
          "data": {
            "text/plain": [
              "Syn        48840\n",
              "Benign     40216\n",
              "UDP        18090\n",
              "LDAP        1884\n",
              "Portmap      685\n",
              "NetBIOS      644\n",
              "MSSQL        145\n",
              "UDPLag        55\n",
              "Name: Label, dtype: int64"
            ]
          },
          "metadata": {},
          "execution_count": 83
        }
      ]
    },
    {
      "cell_type": "code",
      "execution_count": null,
      "metadata": {
        "colab": {
          "base_uri": "https://localhost:8080/"
        },
        "id": "RwIaYOggWMnl",
        "outputId": "52f20a4d-2c03-49dd-a03f-998ded8bb1a0"
      },
      "outputs": [
        {
          "output_type": "stream",
          "name": "stdout",
          "text": [
            "<class 'pandas.core.frame.DataFrame'>\n",
            "RangeIndex: 110560 entries, 0 to 110559\n",
            "Data columns (total 80 columns):\n",
            " #   Column                    Non-Null Count   Dtype  \n",
            "---  ------                    --------------   -----  \n",
            " 0   Unnamed: 0                110560 non-null  int64  \n",
            " 1   Protocol                  110560 non-null  int64  \n",
            " 2   Flow Duration             110560 non-null  int64  \n",
            " 3   Total Fwd Packets         110560 non-null  int64  \n",
            " 4   Total Backward Packets    110560 non-null  int64  \n",
            " 5   Fwd Packets Length Total  110560 non-null  float64\n",
            " 6   Bwd Packets Length Total  110560 non-null  float64\n",
            " 7   Fwd Packet Length Max     110560 non-null  float64\n",
            " 8   Fwd Packet Length Min     110560 non-null  float64\n",
            " 9   Fwd Packet Length Mean    110560 non-null  float64\n",
            " 10  Fwd Packet Length Std     110560 non-null  float64\n",
            " 11  Bwd Packet Length Max     110560 non-null  float64\n",
            " 12  Bwd Packet Length Min     110560 non-null  float64\n",
            " 13  Bwd Packet Length Mean    110560 non-null  float64\n",
            " 14  Bwd Packet Length Std     110560 non-null  float64\n",
            " 15  Flow Bytes/s              110560 non-null  float64\n",
            " 16  Flow Packets/s            110560 non-null  float64\n",
            " 17  Flow IAT Mean             110560 non-null  float64\n",
            " 18  Flow IAT Std              110560 non-null  float64\n",
            " 19  Flow IAT Max              110560 non-null  float64\n",
            " 20  Flow IAT Min              110560 non-null  float64\n",
            " 21  Fwd IAT Total             110560 non-null  float64\n",
            " 22  Fwd IAT Mean              110560 non-null  float64\n",
            " 23  Fwd IAT Std               110560 non-null  float64\n",
            " 24  Fwd IAT Max               110560 non-null  float64\n",
            " 25  Fwd IAT Min               110560 non-null  float64\n",
            " 26  Bwd IAT Total             110560 non-null  float64\n",
            " 27  Bwd IAT Mean              110560 non-null  float64\n",
            " 28  Bwd IAT Std               110560 non-null  float64\n",
            " 29  Bwd IAT Max               110560 non-null  float64\n",
            " 30  Bwd IAT Min               110560 non-null  float64\n",
            " 31  Fwd PSH Flags             110560 non-null  int64  \n",
            " 32  Bwd PSH Flags             110560 non-null  int64  \n",
            " 33  Fwd URG Flags             110560 non-null  int64  \n",
            " 34  Bwd URG Flags             110560 non-null  int64  \n",
            " 35  Fwd Header Length         110560 non-null  int64  \n",
            " 36  Bwd Header Length         110560 non-null  int64  \n",
            " 37  Fwd Packets/s             110560 non-null  float64\n",
            " 38  Bwd Packets/s             110560 non-null  float64\n",
            " 39  Packet Length Min         110560 non-null  float64\n",
            " 40  Packet Length Max         110560 non-null  float64\n",
            " 41  Packet Length Mean        110560 non-null  float64\n",
            " 42  Packet Length Std         110560 non-null  float64\n",
            " 43  Packet Length Variance    110560 non-null  float64\n",
            " 44  FIN Flag Count            110560 non-null  int64  \n",
            " 45  SYN Flag Count            110560 non-null  int64  \n",
            " 46  RST Flag Count            110560 non-null  int64  \n",
            " 47  PSH Flag Count            110560 non-null  int64  \n",
            " 48  ACK Flag Count            110560 non-null  int64  \n",
            " 49  URG Flag Count            110560 non-null  int64  \n",
            " 50  CWE Flag Count            110560 non-null  int64  \n",
            " 51  ECE Flag Count            110560 non-null  int64  \n",
            " 52  Down/Up Ratio             110560 non-null  float64\n",
            " 53  Avg Packet Size           110560 non-null  float64\n",
            " 54  Avg Fwd Segment Size      110560 non-null  float64\n",
            " 55  Avg Bwd Segment Size      110560 non-null  float64\n",
            " 56  Fwd Avg Bytes/Bulk        110560 non-null  int64  \n",
            " 57  Fwd Avg Packets/Bulk      110560 non-null  int64  \n",
            " 58  Fwd Avg Bulk Rate         110560 non-null  int64  \n",
            " 59  Bwd Avg Bytes/Bulk        110560 non-null  int64  \n",
            " 60  Bwd Avg Packets/Bulk      110560 non-null  int64  \n",
            " 61  Bwd Avg Bulk Rate         110560 non-null  int64  \n",
            " 62  Subflow Fwd Packets       110560 non-null  int64  \n",
            " 63  Subflow Fwd Bytes         110560 non-null  int64  \n",
            " 64  Subflow Bwd Packets       110560 non-null  int64  \n",
            " 65  Subflow Bwd Bytes         110559 non-null  float64\n",
            " 66  Init Fwd Win Bytes        110559 non-null  float64\n",
            " 67  Init Bwd Win Bytes        110559 non-null  float64\n",
            " 68  Fwd Act Data Packets      110559 non-null  float64\n",
            " 69  Fwd Seg Size Min          110559 non-null  float64\n",
            " 70  Active Mean               110559 non-null  float64\n",
            " 71  Active Std                110559 non-null  float64\n",
            " 72  Active Max                110559 non-null  float64\n",
            " 73  Active Min                110559 non-null  float64\n",
            " 74  Idle Mean                 110559 non-null  float64\n",
            " 75  Idle Std                  110559 non-null  float64\n",
            " 76  Idle Max                  110559 non-null  float64\n",
            " 77  Idle Min                  110559 non-null  float64\n",
            " 78  Label                     110559 non-null  object \n",
            " 79  Class                     110559 non-null  object \n",
            "dtypes: float64(50), int64(28), object(2)\n",
            "memory usage: 67.5+ MB\n"
          ]
        }
      ],
      "source": [
        "df.info()"
      ]
    },
    {
      "cell_type": "code",
      "execution_count": null,
      "metadata": {
        "id": "_qZqjm8tl_e7"
      },
      "outputs": [],
      "source": [
        "#df['Active Max'].fillna(df['Active Max'].mean(),inplace=True)"
      ]
    },
    {
      "cell_type": "markdown",
      "metadata": {
        "id": "aHg4mub4o5oK"
      },
      "source": [
        "### Categorical Missing Values"
      ]
    },
    {
      "cell_type": "code",
      "execution_count": null,
      "metadata": {
        "id": "yaUE-3fuWhOv"
      },
      "outputs": [],
      "source": [
        "df['Label'].fillna('UDP',inplace=True)"
      ]
    },
    {
      "cell_type": "code",
      "execution_count": null,
      "metadata": {
        "colab": {
          "base_uri": "https://localhost:8080/"
        },
        "id": "_fsKdbkrYLqm",
        "outputId": "b19e22fe-b9cc-4ccb-a87a-0326df273115"
      },
      "outputs": [
        {
          "output_type": "stream",
          "name": "stdout",
          "text": [
            "<class 'pandas.core.series.Series'>\n",
            "RangeIndex: 110560 entries, 0 to 110559\n",
            "Series name: Class\n",
            "Non-Null Count   Dtype \n",
            "--------------   ----- \n",
            "110560 non-null  object\n",
            "dtypes: object(1)\n",
            "memory usage: 863.9+ KB\n"
          ]
        }
      ],
      "source": [
        "df['Class'].info()"
      ]
    },
    {
      "cell_type": "code",
      "execution_count": null,
      "metadata": {
        "id": "QrydtMifYA6n"
      },
      "outputs": [],
      "source": [
        "df['Class'].fillna('Attack',inplace=True)"
      ]
    },
    {
      "cell_type": "code",
      "execution_count": null,
      "metadata": {
        "colab": {
          "base_uri": "https://localhost:8080/"
        },
        "id": "fxSHLLdCYGj4",
        "outputId": "55948250-18a7-4939-f3c9-239e2e6da1ba"
      },
      "outputs": [
        {
          "output_type": "execute_result",
          "data": {
            "text/plain": [
              "Unnamed: 0                0\n",
              "Protocol                  0\n",
              "Flow Duration             0\n",
              "Total Fwd Packets         0\n",
              "Total Backward Packets    0\n",
              "                         ..\n",
              "Idle Std                  1\n",
              "Idle Max                  1\n",
              "Idle Min                  1\n",
              "Label                     0\n",
              "Class                     0\n",
              "Length: 80, dtype: int64"
            ]
          },
          "metadata": {},
          "execution_count": 92
        }
      ],
      "source": [
        "df.isnull().sum()"
      ]
    },
    {
      "cell_type": "code",
      "execution_count": null,
      "metadata": {
        "colab": {
          "base_uri": "https://localhost:8080/"
        },
        "id": "L4kdQ-TDlkNQ",
        "outputId": "13c013a7-6d6d-498d-a347-edf3fec9eba5"
      },
      "outputs": [
        {
          "output_type": "execute_result",
          "data": {
            "text/plain": [
              "Syn        48840\n",
              "Benign     40216\n",
              "UDP        18091\n",
              "LDAP        1884\n",
              "Portmap      685\n",
              "NetBIOS      644\n",
              "MSSQL        145\n",
              "UDPLag        55\n",
              "Name: Label, dtype: int64"
            ]
          },
          "metadata": {},
          "execution_count": 93
        }
      ],
      "source": [
        "df[\"Label\"].value_counts()"
      ]
    },
    {
      "cell_type": "markdown",
      "metadata": {
        "id": "-LQKS449om1v"
      },
      "source": [
        "### Label Encoding"
      ]
    },
    {
      "cell_type": "code",
      "execution_count": null,
      "metadata": {
        "id": "50rUqLqNkAhb"
      },
      "outputs": [],
      "source": [
        "from sklearn.preprocessing import LabelEncoder"
      ]
    },
    {
      "cell_type": "code",
      "execution_count": null,
      "metadata": {
        "id": "feQi9Bhknqw-"
      },
      "outputs": [],
      "source": [
        "le = LabelEncoder()"
      ]
    },
    {
      "cell_type": "code",
      "execution_count": null,
      "metadata": {
        "id": "daPz-roCnyDX"
      },
      "outputs": [],
      "source": [
        "df['Label'] = le.fit_transform(df['Label'])"
      ]
    },
    {
      "cell_type": "code",
      "execution_count": null,
      "metadata": {
        "colab": {
          "base_uri": "https://localhost:8080/"
        },
        "id": "HKZR-yuOoRWV",
        "outputId": "a625ef5a-f6e2-4fb3-9139-18e93b2ad443"
      },
      "outputs": [
        {
          "output_type": "execute_result",
          "data": {
            "text/plain": [
              "0         6\n",
              "1         6\n",
              "2         6\n",
              "3         6\n",
              "4         6\n",
              "         ..\n",
              "110555    0\n",
              "110556    0\n",
              "110557    0\n",
              "110558    0\n",
              "110559    6\n",
              "Name: Label, Length: 110560, dtype: int64"
            ]
          },
          "metadata": {},
          "execution_count": 97
        }
      ],
      "source": [
        "df['Label']"
      ]
    },
    {
      "cell_type": "code",
      "execution_count": null,
      "metadata": {
        "id": "iHpLTcsgoXbC"
      },
      "outputs": [],
      "source": [
        "df['Class'] = le.fit_transform(df['Class'])"
      ]
    },
    {
      "cell_type": "code",
      "execution_count": null,
      "metadata": {
        "colab": {
          "base_uri": "https://localhost:8080/"
        },
        "id": "4S5J08OKogvF",
        "outputId": "45b9a321-09ae-4bb7-f2fa-00b804045fc8"
      },
      "outputs": [
        {
          "output_type": "execute_result",
          "data": {
            "text/plain": [
              "0         0\n",
              "1         0\n",
              "2         0\n",
              "3         0\n",
              "4         0\n",
              "         ..\n",
              "110555    1\n",
              "110556    1\n",
              "110557    1\n",
              "110558    1\n",
              "110559    0\n",
              "Name: Class, Length: 110560, dtype: int64"
            ]
          },
          "metadata": {},
          "execution_count": 99
        }
      ],
      "source": [
        "df['Class']"
      ]
    },
    {
      "cell_type": "code",
      "execution_count": null,
      "metadata": {
        "colab": {
          "base_uri": "https://localhost:8080/"
        },
        "id": "ghnPQsotoiqA",
        "outputId": "02de8e12-e3bd-4a0a-bc2b-816f76eb4311"
      },
      "outputs": [
        {
          "output_type": "stream",
          "name": "stdout",
          "text": [
            "<class 'pandas.core.frame.DataFrame'>\n",
            "RangeIndex: 110560 entries, 0 to 110559\n",
            "Data columns (total 80 columns):\n",
            " #   Column                    Non-Null Count   Dtype  \n",
            "---  ------                    --------------   -----  \n",
            " 0   Unnamed: 0                110560 non-null  int64  \n",
            " 1   Protocol                  110560 non-null  int64  \n",
            " 2   Flow Duration             110560 non-null  int64  \n",
            " 3   Total Fwd Packets         110560 non-null  int64  \n",
            " 4   Total Backward Packets    110560 non-null  int64  \n",
            " 5   Fwd Packets Length Total  110560 non-null  float64\n",
            " 6   Bwd Packets Length Total  110560 non-null  float64\n",
            " 7   Fwd Packet Length Max     110560 non-null  float64\n",
            " 8   Fwd Packet Length Min     110560 non-null  float64\n",
            " 9   Fwd Packet Length Mean    110560 non-null  float64\n",
            " 10  Fwd Packet Length Std     110560 non-null  float64\n",
            " 11  Bwd Packet Length Max     110560 non-null  float64\n",
            " 12  Bwd Packet Length Min     110560 non-null  float64\n",
            " 13  Bwd Packet Length Mean    110560 non-null  float64\n",
            " 14  Bwd Packet Length Std     110560 non-null  float64\n",
            " 15  Flow Bytes/s              110560 non-null  float64\n",
            " 16  Flow Packets/s            110560 non-null  float64\n",
            " 17  Flow IAT Mean             110560 non-null  float64\n",
            " 18  Flow IAT Std              110560 non-null  float64\n",
            " 19  Flow IAT Max              110560 non-null  float64\n",
            " 20  Flow IAT Min              110560 non-null  float64\n",
            " 21  Fwd IAT Total             110560 non-null  float64\n",
            " 22  Fwd IAT Mean              110560 non-null  float64\n",
            " 23  Fwd IAT Std               110560 non-null  float64\n",
            " 24  Fwd IAT Max               110560 non-null  float64\n",
            " 25  Fwd IAT Min               110560 non-null  float64\n",
            " 26  Bwd IAT Total             110560 non-null  float64\n",
            " 27  Bwd IAT Mean              110560 non-null  float64\n",
            " 28  Bwd IAT Std               110560 non-null  float64\n",
            " 29  Bwd IAT Max               110560 non-null  float64\n",
            " 30  Bwd IAT Min               110560 non-null  float64\n",
            " 31  Fwd PSH Flags             110560 non-null  int64  \n",
            " 32  Bwd PSH Flags             110560 non-null  int64  \n",
            " 33  Fwd URG Flags             110560 non-null  int64  \n",
            " 34  Bwd URG Flags             110560 non-null  int64  \n",
            " 35  Fwd Header Length         110560 non-null  int64  \n",
            " 36  Bwd Header Length         110560 non-null  int64  \n",
            " 37  Fwd Packets/s             110560 non-null  float64\n",
            " 38  Bwd Packets/s             110560 non-null  float64\n",
            " 39  Packet Length Min         110560 non-null  float64\n",
            " 40  Packet Length Max         110560 non-null  float64\n",
            " 41  Packet Length Mean        110560 non-null  float64\n",
            " 42  Packet Length Std         110560 non-null  float64\n",
            " 43  Packet Length Variance    110560 non-null  float64\n",
            " 44  FIN Flag Count            110560 non-null  int64  \n",
            " 45  SYN Flag Count            110560 non-null  int64  \n",
            " 46  RST Flag Count            110560 non-null  int64  \n",
            " 47  PSH Flag Count            110560 non-null  int64  \n",
            " 48  ACK Flag Count            110560 non-null  int64  \n",
            " 49  URG Flag Count            110560 non-null  int64  \n",
            " 50  CWE Flag Count            110560 non-null  int64  \n",
            " 51  ECE Flag Count            110560 non-null  int64  \n",
            " 52  Down/Up Ratio             110560 non-null  float64\n",
            " 53  Avg Packet Size           110560 non-null  float64\n",
            " 54  Avg Fwd Segment Size      110560 non-null  float64\n",
            " 55  Avg Bwd Segment Size      110560 non-null  float64\n",
            " 56  Fwd Avg Bytes/Bulk        110560 non-null  int64  \n",
            " 57  Fwd Avg Packets/Bulk      110560 non-null  int64  \n",
            " 58  Fwd Avg Bulk Rate         110560 non-null  int64  \n",
            " 59  Bwd Avg Bytes/Bulk        110560 non-null  int64  \n",
            " 60  Bwd Avg Packets/Bulk      110560 non-null  int64  \n",
            " 61  Bwd Avg Bulk Rate         110560 non-null  int64  \n",
            " 62  Subflow Fwd Packets       110560 non-null  int64  \n",
            " 63  Subflow Fwd Bytes         110560 non-null  int64  \n",
            " 64  Subflow Bwd Packets       110560 non-null  int64  \n",
            " 65  Subflow Bwd Bytes         110559 non-null  float64\n",
            " 66  Init Fwd Win Bytes        110559 non-null  float64\n",
            " 67  Init Bwd Win Bytes        110559 non-null  float64\n",
            " 68  Fwd Act Data Packets      110559 non-null  float64\n",
            " 69  Fwd Seg Size Min          110559 non-null  float64\n",
            " 70  Active Mean               110559 non-null  float64\n",
            " 71  Active Std                110559 non-null  float64\n",
            " 72  Active Max                110559 non-null  float64\n",
            " 73  Active Min                110559 non-null  float64\n",
            " 74  Idle Mean                 110559 non-null  float64\n",
            " 75  Idle Std                  110559 non-null  float64\n",
            " 76  Idle Max                  110559 non-null  float64\n",
            " 77  Idle Min                  110559 non-null  float64\n",
            " 78  Label                     110560 non-null  int64  \n",
            " 79  Class                     110560 non-null  int64  \n",
            "dtypes: float64(50), int64(30)\n",
            "memory usage: 67.5 MB\n"
          ]
        }
      ],
      "source": [
        "df.info()"
      ]
    },
    {
      "cell_type": "code",
      "execution_count": null,
      "metadata": {
        "colab": {
          "base_uri": "https://localhost:8080/"
        },
        "id": "OERfBuKfpjRw",
        "outputId": "9a77ec61-7912-4a0e-b5c8-7f76b90cda20"
      },
      "outputs": [
        {
          "output_type": "execute_result",
          "data": {
            "text/plain": [
              "Unnamed: 0                0\n",
              "Protocol                  0\n",
              "Flow Duration             0\n",
              "Total Fwd Packets         0\n",
              "Total Backward Packets    0\n",
              "                         ..\n",
              "Idle Std                  1\n",
              "Idle Max                  1\n",
              "Idle Min                  1\n",
              "Label                     0\n",
              "Class                     0\n",
              "Length: 80, dtype: int64"
            ]
          },
          "metadata": {},
          "execution_count": 101
        }
      ],
      "source": [
        "df.isna().sum()"
      ]
    },
    {
      "cell_type": "code",
      "execution_count": null,
      "metadata": {
        "id": "vNF_ag21pIOY"
      },
      "outputs": [],
      "source": [
        "df = df.fillna(df.mean())"
      ]
    },
    {
      "cell_type": "code",
      "execution_count": null,
      "metadata": {
        "colab": {
          "base_uri": "https://localhost:8080/",
          "height": 428
        },
        "id": "hsgDQkOqpuqq",
        "outputId": "42e94e97-6484-484d-d240-a64a39f891ee"
      },
      "outputs": [
        {
          "output_type": "execute_result",
          "data": {
            "text/plain": [
              "          Unnamed: 0       Protocol  Flow Duration  Total Fwd Packets  \\\n",
              "count  110560.000000  110560.000000   1.105600e+05      110560.000000   \n",
              "mean    55279.500000       9.446889   2.257860e+07          10.101411   \n",
              "std     31916.067218       5.168915   3.100119e+07         374.477336   \n",
              "min         0.000000       0.000000   1.000000e+00           1.000000   \n",
              "25%     27639.750000       6.000000   2.087700e+04           2.000000   \n",
              "50%     55279.500000       6.000000   2.160920e+05           4.000000   \n",
              "75%     82919.250000      17.000000   4.900562e+07          10.000000   \n",
              "max    110559.000000      17.000000   1.199975e+08       86666.000000   \n",
              "\n",
              "       Total Backward Packets  Fwd Packets Length Total  \\\n",
              "count           110560.000000             110560.000000   \n",
              "mean                 5.861840                762.262292   \n",
              "std                105.822135               2853.729406   \n",
              "min                  0.000000                  0.000000   \n",
              "25%                  0.000000                 36.000000   \n",
              "50%                  2.000000                 64.000000   \n",
              "75%                  4.000000                776.000000   \n",
              "max              31700.000000             208524.000000   \n",
              "\n",
              "       Bwd Packets Length Total  Fwd Packet Length Max  Fwd Packet Length Min  \\\n",
              "count              1.105600e+05          110560.000000          110560.000000   \n",
              "mean               3.461561e+03             163.620487              91.489083   \n",
              "std                1.901510e+05             349.056598             216.193149   \n",
              "min                0.000000e+00               0.000000               0.000000   \n",
              "25%                0.000000e+00               6.000000               6.000000   \n",
              "50%                1.200000e+01               6.000000               6.000000   \n",
              "75%                3.600000e+01             362.000000              41.000000   \n",
              "max                5.842950e+07            3625.000000            2131.000000   \n",
              "\n",
              "       Fwd Packet Length Mean  ...   Active Mean    Active Std    Active Max  \\\n",
              "count           110560.000000  ...  1.105600e+05  1.105600e+05  1.105600e+05   \n",
              "mean               106.853565  ...  8.675729e+04  8.647435e+04  2.015025e+05   \n",
              "std                222.771038  ...  4.806797e+05  4.075654e+05  8.758743e+05   \n",
              "min                  0.000000  ...  0.000000e+00  0.000000e+00  0.000000e+00   \n",
              "25%                  6.000000  ...  0.000000e+00  0.000000e+00  0.000000e+00   \n",
              "50%                  6.000000  ...  0.000000e+00  0.000000e+00  0.000000e+00   \n",
              "75%                 78.418200  ...  4.425000e+01  4.242641e+01  1.030000e+02   \n",
              "max               2131.000000  ...  4.050800e+07  2.135244e+07  4.553668e+07   \n",
              "\n",
              "         Active Min     Idle Mean      Idle Std      Idle Max      Idle Min  \\\n",
              "count  1.105600e+05  1.105600e+05  1.105600e+05  1.105600e+05  1.105600e+05   \n",
              "mean   3.672267e+04  6.874865e+06  1.700397e+06  8.693791e+06  5.294072e+06   \n",
              "std    3.999728e+05  1.097511e+07  3.305608e+06  1.287639e+07  9.962539e+06   \n",
              "min    0.000000e+00  0.000000e+00  0.000000e+00  0.000000e+00  0.000000e+00   \n",
              "25%    0.000000e+00  0.000000e+00  0.000000e+00  0.000000e+00  0.000000e+00   \n",
              "50%    0.000000e+00  0.000000e+00  0.000000e+00  0.000000e+00  0.000000e+00   \n",
              "75%    1.000000e+00  1.264630e+07  2.795620e+06  1.657637e+07  8.214230e+06   \n",
              "max    4.050800e+07  1.175692e+08  6.961402e+07  1.175692e+08  1.175692e+08   \n",
              "\n",
              "               Label          Class  \n",
              "count  110560.000000  110560.000000  \n",
              "mean        3.255942       0.363748  \n",
              "std         2.555699       0.481080  \n",
              "min         0.000000       0.000000  \n",
              "25%         0.000000       0.000000  \n",
              "50%         5.000000       0.000000  \n",
              "75%         5.000000       1.000000  \n",
              "max         7.000000       1.000000  \n",
              "\n",
              "[8 rows x 80 columns]"
            ],
            "text/html": [
              "\n",
              "  <div id=\"df-6886079d-ec4a-4be8-80c4-8081bdd0fdcf\">\n",
              "    <div class=\"colab-df-container\">\n",
              "      <div>\n",
              "<style scoped>\n",
              "    .dataframe tbody tr th:only-of-type {\n",
              "        vertical-align: middle;\n",
              "    }\n",
              "\n",
              "    .dataframe tbody tr th {\n",
              "        vertical-align: top;\n",
              "    }\n",
              "\n",
              "    .dataframe thead th {\n",
              "        text-align: right;\n",
              "    }\n",
              "</style>\n",
              "<table border=\"1\" class=\"dataframe\">\n",
              "  <thead>\n",
              "    <tr style=\"text-align: right;\">\n",
              "      <th></th>\n",
              "      <th>Unnamed: 0</th>\n",
              "      <th>Protocol</th>\n",
              "      <th>Flow Duration</th>\n",
              "      <th>Total Fwd Packets</th>\n",
              "      <th>Total Backward Packets</th>\n",
              "      <th>Fwd Packets Length Total</th>\n",
              "      <th>Bwd Packets Length Total</th>\n",
              "      <th>Fwd Packet Length Max</th>\n",
              "      <th>Fwd Packet Length Min</th>\n",
              "      <th>Fwd Packet Length Mean</th>\n",
              "      <th>...</th>\n",
              "      <th>Active Mean</th>\n",
              "      <th>Active Std</th>\n",
              "      <th>Active Max</th>\n",
              "      <th>Active Min</th>\n",
              "      <th>Idle Mean</th>\n",
              "      <th>Idle Std</th>\n",
              "      <th>Idle Max</th>\n",
              "      <th>Idle Min</th>\n",
              "      <th>Label</th>\n",
              "      <th>Class</th>\n",
              "    </tr>\n",
              "  </thead>\n",
              "  <tbody>\n",
              "    <tr>\n",
              "      <th>count</th>\n",
              "      <td>110560.000000</td>\n",
              "      <td>110560.000000</td>\n",
              "      <td>1.105600e+05</td>\n",
              "      <td>110560.000000</td>\n",
              "      <td>110560.000000</td>\n",
              "      <td>110560.000000</td>\n",
              "      <td>1.105600e+05</td>\n",
              "      <td>110560.000000</td>\n",
              "      <td>110560.000000</td>\n",
              "      <td>110560.000000</td>\n",
              "      <td>...</td>\n",
              "      <td>1.105600e+05</td>\n",
              "      <td>1.105600e+05</td>\n",
              "      <td>1.105600e+05</td>\n",
              "      <td>1.105600e+05</td>\n",
              "      <td>1.105600e+05</td>\n",
              "      <td>1.105600e+05</td>\n",
              "      <td>1.105600e+05</td>\n",
              "      <td>1.105600e+05</td>\n",
              "      <td>110560.000000</td>\n",
              "      <td>110560.000000</td>\n",
              "    </tr>\n",
              "    <tr>\n",
              "      <th>mean</th>\n",
              "      <td>55279.500000</td>\n",
              "      <td>9.446889</td>\n",
              "      <td>2.257860e+07</td>\n",
              "      <td>10.101411</td>\n",
              "      <td>5.861840</td>\n",
              "      <td>762.262292</td>\n",
              "      <td>3.461561e+03</td>\n",
              "      <td>163.620487</td>\n",
              "      <td>91.489083</td>\n",
              "      <td>106.853565</td>\n",
              "      <td>...</td>\n",
              "      <td>8.675729e+04</td>\n",
              "      <td>8.647435e+04</td>\n",
              "      <td>2.015025e+05</td>\n",
              "      <td>3.672267e+04</td>\n",
              "      <td>6.874865e+06</td>\n",
              "      <td>1.700397e+06</td>\n",
              "      <td>8.693791e+06</td>\n",
              "      <td>5.294072e+06</td>\n",
              "      <td>3.255942</td>\n",
              "      <td>0.363748</td>\n",
              "    </tr>\n",
              "    <tr>\n",
              "      <th>std</th>\n",
              "      <td>31916.067218</td>\n",
              "      <td>5.168915</td>\n",
              "      <td>3.100119e+07</td>\n",
              "      <td>374.477336</td>\n",
              "      <td>105.822135</td>\n",
              "      <td>2853.729406</td>\n",
              "      <td>1.901510e+05</td>\n",
              "      <td>349.056598</td>\n",
              "      <td>216.193149</td>\n",
              "      <td>222.771038</td>\n",
              "      <td>...</td>\n",
              "      <td>4.806797e+05</td>\n",
              "      <td>4.075654e+05</td>\n",
              "      <td>8.758743e+05</td>\n",
              "      <td>3.999728e+05</td>\n",
              "      <td>1.097511e+07</td>\n",
              "      <td>3.305608e+06</td>\n",
              "      <td>1.287639e+07</td>\n",
              "      <td>9.962539e+06</td>\n",
              "      <td>2.555699</td>\n",
              "      <td>0.481080</td>\n",
              "    </tr>\n",
              "    <tr>\n",
              "      <th>min</th>\n",
              "      <td>0.000000</td>\n",
              "      <td>0.000000</td>\n",
              "      <td>1.000000e+00</td>\n",
              "      <td>1.000000</td>\n",
              "      <td>0.000000</td>\n",
              "      <td>0.000000</td>\n",
              "      <td>0.000000e+00</td>\n",
              "      <td>0.000000</td>\n",
              "      <td>0.000000</td>\n",
              "      <td>0.000000</td>\n",
              "      <td>...</td>\n",
              "      <td>0.000000e+00</td>\n",
              "      <td>0.000000e+00</td>\n",
              "      <td>0.000000e+00</td>\n",
              "      <td>0.000000e+00</td>\n",
              "      <td>0.000000e+00</td>\n",
              "      <td>0.000000e+00</td>\n",
              "      <td>0.000000e+00</td>\n",
              "      <td>0.000000e+00</td>\n",
              "      <td>0.000000</td>\n",
              "      <td>0.000000</td>\n",
              "    </tr>\n",
              "    <tr>\n",
              "      <th>25%</th>\n",
              "      <td>27639.750000</td>\n",
              "      <td>6.000000</td>\n",
              "      <td>2.087700e+04</td>\n",
              "      <td>2.000000</td>\n",
              "      <td>0.000000</td>\n",
              "      <td>36.000000</td>\n",
              "      <td>0.000000e+00</td>\n",
              "      <td>6.000000</td>\n",
              "      <td>6.000000</td>\n",
              "      <td>6.000000</td>\n",
              "      <td>...</td>\n",
              "      <td>0.000000e+00</td>\n",
              "      <td>0.000000e+00</td>\n",
              "      <td>0.000000e+00</td>\n",
              "      <td>0.000000e+00</td>\n",
              "      <td>0.000000e+00</td>\n",
              "      <td>0.000000e+00</td>\n",
              "      <td>0.000000e+00</td>\n",
              "      <td>0.000000e+00</td>\n",
              "      <td>0.000000</td>\n",
              "      <td>0.000000</td>\n",
              "    </tr>\n",
              "    <tr>\n",
              "      <th>50%</th>\n",
              "      <td>55279.500000</td>\n",
              "      <td>6.000000</td>\n",
              "      <td>2.160920e+05</td>\n",
              "      <td>4.000000</td>\n",
              "      <td>2.000000</td>\n",
              "      <td>64.000000</td>\n",
              "      <td>1.200000e+01</td>\n",
              "      <td>6.000000</td>\n",
              "      <td>6.000000</td>\n",
              "      <td>6.000000</td>\n",
              "      <td>...</td>\n",
              "      <td>0.000000e+00</td>\n",
              "      <td>0.000000e+00</td>\n",
              "      <td>0.000000e+00</td>\n",
              "      <td>0.000000e+00</td>\n",
              "      <td>0.000000e+00</td>\n",
              "      <td>0.000000e+00</td>\n",
              "      <td>0.000000e+00</td>\n",
              "      <td>0.000000e+00</td>\n",
              "      <td>5.000000</td>\n",
              "      <td>0.000000</td>\n",
              "    </tr>\n",
              "    <tr>\n",
              "      <th>75%</th>\n",
              "      <td>82919.250000</td>\n",
              "      <td>17.000000</td>\n",
              "      <td>4.900562e+07</td>\n",
              "      <td>10.000000</td>\n",
              "      <td>4.000000</td>\n",
              "      <td>776.000000</td>\n",
              "      <td>3.600000e+01</td>\n",
              "      <td>362.000000</td>\n",
              "      <td>41.000000</td>\n",
              "      <td>78.418200</td>\n",
              "      <td>...</td>\n",
              "      <td>4.425000e+01</td>\n",
              "      <td>4.242641e+01</td>\n",
              "      <td>1.030000e+02</td>\n",
              "      <td>1.000000e+00</td>\n",
              "      <td>1.264630e+07</td>\n",
              "      <td>2.795620e+06</td>\n",
              "      <td>1.657637e+07</td>\n",
              "      <td>8.214230e+06</td>\n",
              "      <td>5.000000</td>\n",
              "      <td>1.000000</td>\n",
              "    </tr>\n",
              "    <tr>\n",
              "      <th>max</th>\n",
              "      <td>110559.000000</td>\n",
              "      <td>17.000000</td>\n",
              "      <td>1.199975e+08</td>\n",
              "      <td>86666.000000</td>\n",
              "      <td>31700.000000</td>\n",
              "      <td>208524.000000</td>\n",
              "      <td>5.842950e+07</td>\n",
              "      <td>3625.000000</td>\n",
              "      <td>2131.000000</td>\n",
              "      <td>2131.000000</td>\n",
              "      <td>...</td>\n",
              "      <td>4.050800e+07</td>\n",
              "      <td>2.135244e+07</td>\n",
              "      <td>4.553668e+07</td>\n",
              "      <td>4.050800e+07</td>\n",
              "      <td>1.175692e+08</td>\n",
              "      <td>6.961402e+07</td>\n",
              "      <td>1.175692e+08</td>\n",
              "      <td>1.175692e+08</td>\n",
              "      <td>7.000000</td>\n",
              "      <td>1.000000</td>\n",
              "    </tr>\n",
              "  </tbody>\n",
              "</table>\n",
              "<p>8 rows × 80 columns</p>\n",
              "</div>\n",
              "      <button class=\"colab-df-convert\" onclick=\"convertToInteractive('df-6886079d-ec4a-4be8-80c4-8081bdd0fdcf')\"\n",
              "              title=\"Convert this dataframe to an interactive table.\"\n",
              "              style=\"display:none;\">\n",
              "        \n",
              "  <svg xmlns=\"http://www.w3.org/2000/svg\" height=\"24px\"viewBox=\"0 0 24 24\"\n",
              "       width=\"24px\">\n",
              "    <path d=\"M0 0h24v24H0V0z\" fill=\"none\"/>\n",
              "    <path d=\"M18.56 5.44l.94 2.06.94-2.06 2.06-.94-2.06-.94-.94-2.06-.94 2.06-2.06.94zm-11 1L8.5 8.5l.94-2.06 2.06-.94-2.06-.94L8.5 2.5l-.94 2.06-2.06.94zm10 10l.94 2.06.94-2.06 2.06-.94-2.06-.94-.94-2.06-.94 2.06-2.06.94z\"/><path d=\"M17.41 7.96l-1.37-1.37c-.4-.4-.92-.59-1.43-.59-.52 0-1.04.2-1.43.59L10.3 9.45l-7.72 7.72c-.78.78-.78 2.05 0 2.83L4 21.41c.39.39.9.59 1.41.59.51 0 1.02-.2 1.41-.59l7.78-7.78 2.81-2.81c.8-.78.8-2.07 0-2.86zM5.41 20L4 18.59l7.72-7.72 1.47 1.35L5.41 20z\"/>\n",
              "  </svg>\n",
              "      </button>\n",
              "      \n",
              "  <style>\n",
              "    .colab-df-container {\n",
              "      display:flex;\n",
              "      flex-wrap:wrap;\n",
              "      gap: 12px;\n",
              "    }\n",
              "\n",
              "    .colab-df-convert {\n",
              "      background-color: #E8F0FE;\n",
              "      border: none;\n",
              "      border-radius: 50%;\n",
              "      cursor: pointer;\n",
              "      display: none;\n",
              "      fill: #1967D2;\n",
              "      height: 32px;\n",
              "      padding: 0 0 0 0;\n",
              "      width: 32px;\n",
              "    }\n",
              "\n",
              "    .colab-df-convert:hover {\n",
              "      background-color: #E2EBFA;\n",
              "      box-shadow: 0px 1px 2px rgba(60, 64, 67, 0.3), 0px 1px 3px 1px rgba(60, 64, 67, 0.15);\n",
              "      fill: #174EA6;\n",
              "    }\n",
              "\n",
              "    [theme=dark] .colab-df-convert {\n",
              "      background-color: #3B4455;\n",
              "      fill: #D2E3FC;\n",
              "    }\n",
              "\n",
              "    [theme=dark] .colab-df-convert:hover {\n",
              "      background-color: #434B5C;\n",
              "      box-shadow: 0px 1px 3px 1px rgba(0, 0, 0, 0.15);\n",
              "      filter: drop-shadow(0px 1px 2px rgba(0, 0, 0, 0.3));\n",
              "      fill: #FFFFFF;\n",
              "    }\n",
              "  </style>\n",
              "\n",
              "      <script>\n",
              "        const buttonEl =\n",
              "          document.querySelector('#df-6886079d-ec4a-4be8-80c4-8081bdd0fdcf button.colab-df-convert');\n",
              "        buttonEl.style.display =\n",
              "          google.colab.kernel.accessAllowed ? 'block' : 'none';\n",
              "\n",
              "        async function convertToInteractive(key) {\n",
              "          const element = document.querySelector('#df-6886079d-ec4a-4be8-80c4-8081bdd0fdcf');\n",
              "          const dataTable =\n",
              "            await google.colab.kernel.invokeFunction('convertToInteractive',\n",
              "                                                     [key], {});\n",
              "          if (!dataTable) return;\n",
              "\n",
              "          const docLinkHtml = 'Like what you see? Visit the ' +\n",
              "            '<a target=\"_blank\" href=https://colab.research.google.com/notebooks/data_table.ipynb>data table notebook</a>'\n",
              "            + ' to learn more about interactive tables.';\n",
              "          element.innerHTML = '';\n",
              "          dataTable['output_type'] = 'display_data';\n",
              "          await google.colab.output.renderOutput(dataTable, element);\n",
              "          const docLink = document.createElement('div');\n",
              "          docLink.innerHTML = docLinkHtml;\n",
              "          element.appendChild(docLink);\n",
              "        }\n",
              "      </script>\n",
              "    </div>\n",
              "  </div>\n",
              "  "
            ]
          },
          "metadata": {},
          "execution_count": 103
        }
      ],
      "source": [
        "df.describe()"
      ]
    },
    {
      "cell_type": "code",
      "execution_count": null,
      "metadata": {
        "id": "gZ0W94nxri74"
      },
      "outputs": [],
      "source": [
        "X = df.drop(['Label','Class'],axis=1)"
      ]
    },
    {
      "cell_type": "code",
      "execution_count": null,
      "metadata": {
        "id": "GczANhkkuqge"
      },
      "outputs": [],
      "source": [
        "y = df['Class']"
      ]
    },
    {
      "cell_type": "code",
      "execution_count": null,
      "metadata": {
        "id": "V32LfKuHu1r3"
      },
      "outputs": [],
      "source": [
        "from sklearn.preprocessing import StandardScaler\n",
        "\n",
        "scaler = StandardScaler()\n",
        "X = scaler.fit_transform(X)"
      ]
    },
    {
      "cell_type": "code",
      "execution_count": null,
      "metadata": {
        "colab": {
          "base_uri": "https://localhost:8080/"
        },
        "id": "f_JkPyyeu4hk",
        "outputId": "a6d92414-e952-4d16-96bd-c79bc104fd08"
      },
      "outputs": [
        {
          "output_type": "execute_result",
          "data": {
            "text/plain": [
              "((88448, 78), (22112, 78), (88448,), (22112,))"
            ]
          },
          "metadata": {},
          "execution_count": 107
        }
      ],
      "source": [
        "from sklearn.model_selection import train_test_split\n",
        "\n",
        "X_train, X_test, y_train, y_test = train_test_split(X, y, test_size = 0.2, stratify = y, random_state = 0)\n",
        "\n",
        "X_train.shape, X_test.shape, y_train.shape, y_test.shape"
      ]
    },
    {
      "cell_type": "code",
      "source": [
        "y_train.value_counts()"
      ],
      "metadata": {
        "colab": {
          "base_uri": "https://localhost:8080/"
        },
        "id": "8y913kOqzWTV",
        "outputId": "26005150-398b-433b-bc61-f28e28bf65e8"
      },
      "execution_count": null,
      "outputs": [
        {
          "output_type": "execute_result",
          "data": {
            "text/plain": [
              "0    56275\n",
              "1    32173\n",
              "Name: Class, dtype: int64"
            ]
          },
          "metadata": {},
          "execution_count": 108
        }
      ]
    },
    {
      "cell_type": "code",
      "source": [
        "y_test.value_counts()"
      ],
      "metadata": {
        "colab": {
          "base_uri": "https://localhost:8080/"
        },
        "id": "lDP51r6i0gMP",
        "outputId": "4004de4f-f265-456b-e88a-ecf933c6301b"
      },
      "execution_count": null,
      "outputs": [
        {
          "output_type": "execute_result",
          "data": {
            "text/plain": [
              "0    14069\n",
              "1     8043\n",
              "Name: Class, dtype: int64"
            ]
          },
          "metadata": {},
          "execution_count": 109
        }
      ]
    },
    {
      "cell_type": "code",
      "source": [
        "df['Class'].value_counts()"
      ],
      "metadata": {
        "colab": {
          "base_uri": "https://localhost:8080/"
        },
        "id": "3ClZ4i5tzbni",
        "outputId": "21c239a3-9bff-4227-9fc5-5d054b208e5d"
      },
      "execution_count": null,
      "outputs": [
        {
          "output_type": "execute_result",
          "data": {
            "text/plain": [
              "0    70344\n",
              "1    40216\n",
              "Name: Class, dtype: int64"
            ]
          },
          "metadata": {},
          "execution_count": 110
        }
      ]
    },
    {
      "cell_type": "markdown",
      "metadata": {
        "id": "ZXIpAmUxwUHW"
      },
      "source": [
        "### svm"
      ]
    },
    {
      "cell_type": "code",
      "execution_count": null,
      "metadata": {
        "id": "g1NEIhrbu7xi"
      },
      "outputs": [],
      "source": [
        "from sklearn import svm"
      ]
    },
    {
      "cell_type": "code",
      "execution_count": null,
      "metadata": {
        "id": "zQp0c4RJvCkr"
      },
      "outputs": [],
      "source": [
        "clf = svm.SVC()"
      ]
    },
    {
      "cell_type": "code",
      "execution_count": null,
      "metadata": {
        "colab": {
          "base_uri": "https://localhost:8080/",
          "height": 75
        },
        "id": "rRTUH0zKvFNM",
        "outputId": "f843c926-6123-47b7-a1c9-6750d0bd87db"
      },
      "outputs": [
        {
          "output_type": "execute_result",
          "data": {
            "text/plain": [
              "SVC()"
            ],
            "text/html": [
              "<style>#sk-container-id-5 {color: black;background-color: white;}#sk-container-id-5 pre{padding: 0;}#sk-container-id-5 div.sk-toggleable {background-color: white;}#sk-container-id-5 label.sk-toggleable__label {cursor: pointer;display: block;width: 100%;margin-bottom: 0;padding: 0.3em;box-sizing: border-box;text-align: center;}#sk-container-id-5 label.sk-toggleable__label-arrow:before {content: \"▸\";float: left;margin-right: 0.25em;color: #696969;}#sk-container-id-5 label.sk-toggleable__label-arrow:hover:before {color: black;}#sk-container-id-5 div.sk-estimator:hover label.sk-toggleable__label-arrow:before {color: black;}#sk-container-id-5 div.sk-toggleable__content {max-height: 0;max-width: 0;overflow: hidden;text-align: left;background-color: #f0f8ff;}#sk-container-id-5 div.sk-toggleable__content pre {margin: 0.2em;color: black;border-radius: 0.25em;background-color: #f0f8ff;}#sk-container-id-5 input.sk-toggleable__control:checked~div.sk-toggleable__content {max-height: 200px;max-width: 100%;overflow: auto;}#sk-container-id-5 input.sk-toggleable__control:checked~label.sk-toggleable__label-arrow:before {content: \"▾\";}#sk-container-id-5 div.sk-estimator input.sk-toggleable__control:checked~label.sk-toggleable__label {background-color: #d4ebff;}#sk-container-id-5 div.sk-label input.sk-toggleable__control:checked~label.sk-toggleable__label {background-color: #d4ebff;}#sk-container-id-5 input.sk-hidden--visually {border: 0;clip: rect(1px 1px 1px 1px);clip: rect(1px, 1px, 1px, 1px);height: 1px;margin: -1px;overflow: hidden;padding: 0;position: absolute;width: 1px;}#sk-container-id-5 div.sk-estimator {font-family: monospace;background-color: #f0f8ff;border: 1px dotted black;border-radius: 0.25em;box-sizing: border-box;margin-bottom: 0.5em;}#sk-container-id-5 div.sk-estimator:hover {background-color: #d4ebff;}#sk-container-id-5 div.sk-parallel-item::after {content: \"\";width: 100%;border-bottom: 1px solid gray;flex-grow: 1;}#sk-container-id-5 div.sk-label:hover label.sk-toggleable__label {background-color: #d4ebff;}#sk-container-id-5 div.sk-serial::before {content: \"\";position: absolute;border-left: 1px solid gray;box-sizing: border-box;top: 0;bottom: 0;left: 50%;z-index: 0;}#sk-container-id-5 div.sk-serial {display: flex;flex-direction: column;align-items: center;background-color: white;padding-right: 0.2em;padding-left: 0.2em;position: relative;}#sk-container-id-5 div.sk-item {position: relative;z-index: 1;}#sk-container-id-5 div.sk-parallel {display: flex;align-items: stretch;justify-content: center;background-color: white;position: relative;}#sk-container-id-5 div.sk-item::before, #sk-container-id-5 div.sk-parallel-item::before {content: \"\";position: absolute;border-left: 1px solid gray;box-sizing: border-box;top: 0;bottom: 0;left: 50%;z-index: -1;}#sk-container-id-5 div.sk-parallel-item {display: flex;flex-direction: column;z-index: 1;position: relative;background-color: white;}#sk-container-id-5 div.sk-parallel-item:first-child::after {align-self: flex-end;width: 50%;}#sk-container-id-5 div.sk-parallel-item:last-child::after {align-self: flex-start;width: 50%;}#sk-container-id-5 div.sk-parallel-item:only-child::after {width: 0;}#sk-container-id-5 div.sk-dashed-wrapped {border: 1px dashed gray;margin: 0 0.4em 0.5em 0.4em;box-sizing: border-box;padding-bottom: 0.4em;background-color: white;}#sk-container-id-5 div.sk-label label {font-family: monospace;font-weight: bold;display: inline-block;line-height: 1.2em;}#sk-container-id-5 div.sk-label-container {text-align: center;}#sk-container-id-5 div.sk-container {/* jupyter's `normalize.less` sets `[hidden] { display: none; }` but bootstrap.min.css set `[hidden] { display: none !important; }` so we also need the `!important` here to be able to override the default hidden behavior on the sphinx rendered scikit-learn.org. See: https://github.com/scikit-learn/scikit-learn/issues/21755 */display: inline-block !important;position: relative;}#sk-container-id-5 div.sk-text-repr-fallback {display: none;}</style><div id=\"sk-container-id-5\" class=\"sk-top-container\"><div class=\"sk-text-repr-fallback\"><pre>SVC()</pre><b>In a Jupyter environment, please rerun this cell to show the HTML representation or trust the notebook. <br />On GitHub, the HTML representation is unable to render, please try loading this page with nbviewer.org.</b></div><div class=\"sk-container\" hidden><div class=\"sk-item\"><div class=\"sk-estimator sk-toggleable\"><input class=\"sk-toggleable__control sk-hidden--visually\" id=\"sk-estimator-id-5\" type=\"checkbox\" checked><label for=\"sk-estimator-id-5\" class=\"sk-toggleable__label sk-toggleable__label-arrow\">SVC</label><div class=\"sk-toggleable__content\"><pre>SVC()</pre></div></div></div></div></div>"
            ]
          },
          "metadata": {},
          "execution_count": 113
        }
      ],
      "source": [
        "clf.fit(X_train,y_train)"
      ]
    },
    {
      "cell_type": "code",
      "execution_count": null,
      "metadata": {
        "id": "7MZqGHuAvHS2"
      },
      "outputs": [],
      "source": [
        "y_pred = clf.predict(X_test)"
      ]
    },
    {
      "cell_type": "code",
      "execution_count": null,
      "metadata": {
        "id": "Waca1DL_vKIX"
      },
      "outputs": [],
      "source": [
        "from sklearn.metrics import classification_report"
      ]
    },
    {
      "cell_type": "code",
      "execution_count": null,
      "metadata": {
        "colab": {
          "base_uri": "https://localhost:8080/"
        },
        "id": "o_gMz2BvvRiJ",
        "outputId": "ec5f0df1-96e4-45df-9296-72361184a785"
      },
      "outputs": [
        {
          "output_type": "stream",
          "name": "stdout",
          "text": [
            "              precision    recall  f1-score   support\n",
            "\n",
            "           0       1.00      1.00      1.00     14069\n",
            "           1       0.99      1.00      1.00      8043\n",
            "\n",
            "    accuracy                           1.00     22112\n",
            "   macro avg       1.00      1.00      1.00     22112\n",
            "weighted avg       1.00      1.00      1.00     22112\n",
            "\n"
          ]
        }
      ],
      "source": [
        "print(classification_report(y_test, y_pred))"
      ]
    },
    {
      "cell_type": "code",
      "execution_count": null,
      "metadata": {
        "id": "buHdZP3KvRpd",
        "colab": {
          "base_uri": "https://localhost:8080/",
          "height": 595
        },
        "outputId": "e1e9fb7c-2b85-450c-8a1d-d9aa2923b871"
      },
      "outputs": [
        {
          "output_type": "display_data",
          "data": {
            "text/plain": [
              "<Figure size 1080x720 with 2 Axes>"
            ],
            "image/png": "[encoded data removed]"
          },
          "metadata": {
            "needs_background": "light"
          }
        }
      ],
      "source": [
        "from sklearn.metrics import confusion_matrix\n",
        "\n",
        "plt.figure(figsize=(15, 10))\n",
        "sns.heatmap(confusion_matrix(y_test,\n",
        "                 y_pred), annot=True,\n",
        "                 fmt=\"d\");"
      ]
    },
    {
      "cell_type": "markdown",
      "metadata": {
        "id": "dwMq0TqzvfjX"
      },
      "source": [
        "### CNN"
      ]
    },
    {
      "cell_type": "code",
      "execution_count": null,
      "metadata": {
        "colab": {
          "background_save": true
        },
        "id": "GD3eCP0lvhzn"
      },
      "outputs": [],
      "source": [
        "import tensorflow as tf\n",
        "tf.__version__"
      ]
    },
    {
      "cell_type": "code",
      "execution_count": null,
      "metadata": {
        "id": "r0gBLor6vi1K"
      },
      "outputs": [],
      "source": [
        "model_1 = tf.keras.Sequential([\n",
        "           tf.keras.layers.Dense(3, activation='relu'),\n",
        "           tf.keras.layers.Dense(5, activation='relu'),\n",
        "           tf.keras.layers.Dense(3, activation='softmax')\n",
        "])"
      ]
    },
    {
      "cell_type": "code",
      "execution_count": null,
      "metadata": {
        "id": "-iQEavdmvpmd"
      },
      "outputs": [],
      "source": [
        "model_1.compile(loss=tf.keras.losses.CategoricalCrossentropy(),\n",
        "                 optimizer=tf.keras.optimizers.Adam(learning_rate=0.01),\n",
        "                 metrics=['accuracy'])"
      ]
    },
    {
      "cell_type": "code",
      "execution_count": null,
      "metadata": {
        "id": "3ih-EpOIvpgp"
      },
      "outputs": [],
      "source": [
        "history = model_1.fit(X_train,\n",
        "                      tf.one_hot(y_train, depth=3),\n",
        "                      epochs=100,\n",
        "                      verbose = 1)"
      ]
    },
    {
      "cell_type": "code",
      "execution_count": null,
      "metadata": {
        "id": "cACD6dJ0vvUO"
      },
      "outputs": [],
      "source": [
        "plt.plot(history.history['accuracy'], label='accuracy')\n",
        "plt.xlabel('Epoch')\n",
        "plt.ylabel('Accuracy')\n",
        "plt.ylim([0.0, 1.0])\n",
        "plt.legend(loc='lower right');"
      ]
    },
    {
      "cell_type": "code",
      "execution_count": null,
      "metadata": {
        "id": "EshlRbk5vvPn"
      },
      "outputs": [],
      "source": [
        "plt.plot(history.history['loss'], label='loss')\n",
        "plt.xlabel('Epoch')\n",
        "plt.ylabel('Loss')\n",
        "plt.ylim([0.0, 1])\n",
        "plt.legend(loc='upper right');"
      ]
    },
    {
      "cell_type": "code",
      "execution_count": null,
      "metadata": {
        "id": "J0gXF7HrvvLq"
      },
      "outputs": [],
      "source": [
        "import seaborn as sns\n",
        "from sklearn.metrics import confusion_matrix\n",
        "\n",
        "plt.figure(figsize=(15, 10))\n",
        "sns.heatmap(confusion_matrix(y_true=y_test,\n",
        "                 y_pred=model_1.predict(X_test).argmax(axis=1)), annot=True,\n",
        "                 fmt=\"d\");"
      ]
    },
    {
      "cell_type": "markdown",
      "source": [
        "### Gradient Boosting Classifier"
      ],
      "metadata": {
        "id": "PCqCUqo_YaFS"
      }
    },
    {
      "cell_type": "code",
      "execution_count": null,
      "metadata": {
        "id": "Zr3zh9vFvvGD"
      },
      "outputs": [],
      "source": [
        "from sklearn.ensemble import GradientBoostingClassifier"
      ]
    },
    {
      "cell_type": "code",
      "source": [
        "clf = GradientBoostingClassifier(n_estimators=100, learning_rate=1.0,\n",
        "...     max_depth=1, random_state=0)"
      ],
      "metadata": {
        "id": "lzwhM3-bYfHq"
      },
      "execution_count": null,
      "outputs": []
    },
    {
      "cell_type": "code",
      "source": [
        "clf.fit(X_train,y_train)"
      ],
      "metadata": {
        "id": "Sp2H9EXCYwfl",
        "colab": {
          "base_uri": "https://localhost:8080/",
          "height": 75
        },
        "outputId": "9b56aeb6-f96a-4750-d0cb-21114314a230"
      },
      "execution_count": null,
      "outputs": [
        {
          "output_type": "execute_result",
          "data": {
            "text/plain": [
              "GradientBoostingClassifier(learning_rate=1.0, max_depth=1, random_state=0)"
            ],
            "text/html": [
              "<style>#sk-container-id-6 {color: black;background-color: white;}#sk-container-id-6 pre{padding: 0;}#sk-container-id-6 div.sk-toggleable {background-color: white;}#sk-container-id-6 label.sk-toggleable__label {cursor: pointer;display: block;width: 100%;margin-bottom: 0;padding: 0.3em;box-sizing: border-box;text-align: center;}#sk-container-id-6 label.sk-toggleable__label-arrow:before {content: \"▸\";float: left;margin-right: 0.25em;color: #696969;}#sk-container-id-6 label.sk-toggleable__label-arrow:hover:before {color: black;}#sk-container-id-6 div.sk-estimator:hover label.sk-toggleable__label-arrow:before {color: black;}#sk-container-id-6 div.sk-toggleable__content {max-height: 0;max-width: 0;overflow: hidden;text-align: left;background-color: #f0f8ff;}#sk-container-id-6 div.sk-toggleable__content pre {margin: 0.2em;color: black;border-radius: 0.25em;background-color: #f0f8ff;}#sk-container-id-6 input.sk-toggleable__control:checked~div.sk-toggleable__content {max-height: 200px;max-width: 100%;overflow: auto;}#sk-container-id-6 input.sk-toggleable__control:checked~label.sk-toggleable__label-arrow:before {content: \"▾\";}#sk-container-id-6 div.sk-estimator input.sk-toggleable__control:checked~label.sk-toggleable__label {background-color: #d4ebff;}#sk-container-id-6 div.sk-label input.sk-toggleable__control:checked~label.sk-toggleable__label {background-color: #d4ebff;}#sk-container-id-6 input.sk-hidden--visually {border: 0;clip: rect(1px 1px 1px 1px);clip: rect(1px, 1px, 1px, 1px);height: 1px;margin: -1px;overflow: hidden;padding: 0;position: absolute;width: 1px;}#sk-container-id-6 div.sk-estimator {font-family: monospace;background-color: #f0f8ff;border: 1px dotted black;border-radius: 0.25em;box-sizing: border-box;margin-bottom: 0.5em;}#sk-container-id-6 div.sk-estimator:hover {background-color: #d4ebff;}#sk-container-id-6 div.sk-parallel-item::after {content: \"\";width: 100%;border-bottom: 1px solid gray;flex-grow: 1;}#sk-container-id-6 div.sk-label:hover label.sk-toggleable__label {background-color: #d4ebff;}#sk-container-id-6 div.sk-serial::before {content: \"\";position: absolute;border-left: 1px solid gray;box-sizing: border-box;top: 0;bottom: 0;left: 50%;z-index: 0;}#sk-container-id-6 div.sk-serial {display: flex;flex-direction: column;align-items: center;background-color: white;padding-right: 0.2em;padding-left: 0.2em;position: relative;}#sk-container-id-6 div.sk-item {position: relative;z-index: 1;}#sk-container-id-6 div.sk-parallel {display: flex;align-items: stretch;justify-content: center;background-color: white;position: relative;}#sk-container-id-6 div.sk-item::before, #sk-container-id-6 div.sk-parallel-item::before {content: \"\";position: absolute;border-left: 1px solid gray;box-sizing: border-box;top: 0;bottom: 0;left: 50%;z-index: -1;}#sk-container-id-6 div.sk-parallel-item {display: flex;flex-direction: column;z-index: 1;position: relative;background-color: white;}#sk-container-id-6 div.sk-parallel-item:first-child::after {align-self: flex-end;width: 50%;}#sk-container-id-6 div.sk-parallel-item:last-child::after {align-self: flex-start;width: 50%;}#sk-container-id-6 div.sk-parallel-item:only-child::after {width: 0;}#sk-container-id-6 div.sk-dashed-wrapped {border: 1px dashed gray;margin: 0 0.4em 0.5em 0.4em;box-sizing: border-box;padding-bottom: 0.4em;background-color: white;}#sk-container-id-6 div.sk-label label {font-family: monospace;font-weight: bold;display: inline-block;line-height: 1.2em;}#sk-container-id-6 div.sk-label-container {text-align: center;}#sk-container-id-6 div.sk-container {/* jupyter's `normalize.less` sets `[hidden] { display: none; }` but bootstrap.min.css set `[hidden] { display: none !important; }` so we also need the `!important` here to be able to override the default hidden behavior on the sphinx rendered scikit-learn.org. See: https://github.com/scikit-learn/scikit-learn/issues/21755 */display: inline-block !important;position: relative;}#sk-container-id-6 div.sk-text-repr-fallback {display: none;}</style><div id=\"sk-container-id-6\" class=\"sk-top-container\"><div class=\"sk-text-repr-fallback\"><pre>GradientBoostingClassifier(learning_rate=1.0, max_depth=1, random_state=0)</pre><b>In a Jupyter environment, please rerun this cell to show the HTML representation or trust the notebook. <br />On GitHub, the HTML representation is unable to render, please try loading this page with nbviewer.org.</b></div><div class=\"sk-container\" hidden><div class=\"sk-item\"><div class=\"sk-estimator sk-toggleable\"><input class=\"sk-toggleable__control sk-hidden--visually\" id=\"sk-estimator-id-6\" type=\"checkbox\" checked><label for=\"sk-estimator-id-6\" class=\"sk-toggleable__label sk-toggleable__label-arrow\">GradientBoostingClassifier</label><div class=\"sk-toggleable__content\"><pre>GradientBoostingClassifier(learning_rate=1.0, max_depth=1, random_state=0)</pre></div></div></div></div></div>"
            ]
          },
          "metadata": {},
          "execution_count": 120
        }
      ]
    },
    {
      "cell_type": "code",
      "source": [
        "from sklearn.metrics import classification_report"
      ],
      "metadata": {
        "id": "WsDE6T3x1qhG"
      },
      "execution_count": null,
      "outputs": []
    },
    {
      "cell_type": "code",
      "source": [
        "print(classification_report(y_test, y_pred))"
      ],
      "metadata": {
        "colab": {
          "base_uri": "https://localhost:8080/"
        },
        "id": "s9THKnj51gJD",
        "outputId": "f1417180-567d-45ed-cc17-db426e264382"
      },
      "execution_count": null,
      "outputs": [
        {
          "output_type": "stream",
          "name": "stdout",
          "text": [
            "              precision    recall  f1-score   support\n",
            "\n",
            "           0       1.00      1.00      1.00     14069\n",
            "           1       0.99      1.00      1.00      8043\n",
            "\n",
            "    accuracy                           1.00     22112\n",
            "   macro avg       1.00      1.00      1.00     22112\n",
            "weighted avg       1.00      1.00      1.00     22112\n",
            "\n"
          ]
        }
      ]
    },
    {
      "cell_type": "code",
      "source": [
        "clf.score(X_test, y_test)"
      ],
      "metadata": {
        "id": "uIYHlfK6Yz0b",
        "colab": {
          "base_uri": "https://localhost:8080/"
        },
        "outputId": "77f0b97d-17c2-475f-b943-5e175fd0e347"
      },
      "execution_count": null,
      "outputs": [
        {
          "output_type": "execute_result",
          "data": {
            "text/plain": [
              "0.9948444283646889"
            ]
          },
          "metadata": {},
          "execution_count": 127
        }
      ]
    },
    {
      "cell_type": "code",
      "source": [
        "clf.score(X_train, y_train)"
      ],
      "metadata": {
        "colab": {
          "base_uri": "https://localhost:8080/"
        },
        "id": "nAV3l4WB13VV",
        "outputId": "86a14af8-0e6e-4654-f054-41fcb0c46537"
      },
      "execution_count": null,
      "outputs": [
        {
          "output_type": "execute_result",
          "data": {
            "text/plain": [
              "0.994900958755427"
            ]
          },
          "metadata": {},
          "execution_count": 128
        }
      ]
    },
    {
      "cell_type": "code",
      "source": [
        "y_pred = clf.predict(X_test)"
      ],
      "metadata": {
        "id": "0EWpkiCUY25u"
      },
      "execution_count": null,
      "outputs": []
    },
    {
      "cell_type": "code",
      "source": [
        "from sklearn.metrics import confusion_matrix\n",
        "\n",
        "plt.figure(figsize=(15, 10))\n",
        "sns.heatmap(confusion_matrix(y_test,\n",
        "                 y_pred), annot=True,\n",
        "                 fmt=\"d\");"
      ],
      "metadata": {
        "id": "VMQpaKXAZAHx",
        "colab": {
          "base_uri": "https://localhost:8080/",
          "height": 595
        },
        "outputId": "477cf53e-f310-4834-d8c2-2100899e1404"
      },
      "execution_count": null,
      "outputs": [
        {
          "output_type": "display_data",
          "data": {
            "text/plain": [
              "<Figure size 1080x720 with 2 Axes>"
            ],
            "image/png": "[encoded data removed]"
          },
          "metadata": {
            "needs_background": "light"
          }
        }
      ]
    },
    {
      "cell_type": "markdown",
      "source": [
        "### LightLGBM"
      ],
      "metadata": {
        "id": "MAk4puCBP02w"
      }
    },
    {
      "cell_type": "code",
      "source": [
        "!pip install lightgbm"
      ],
      "metadata": {
        "id": "rlvnT3lMQAWa",
        "colab": {
          "base_uri": "https://localhost:8080/"
        },
        "outputId": "cfdf5db5-b9ee-45f8-b7b9-8a009c80f90c"
      },
      "execution_count": null,
      "outputs": [
        {
          "output_type": "stream",
          "name": "stdout",
          "text": [
            "Looking in indexes: https://pypi.org/simple, https://us-python.pkg.dev/colab-wheels/public/simple/\n",
            "Requirement already satisfied: lightgbm in /usr/local/lib/python3.9/dist-packages (3.3.5)\n",
            "Requirement already satisfied: scikit-learn!=0.22.0 in /usr/local/lib/python3.9/dist-packages (from lightgbm) (1.2.2)\n",
            "Requirement already satisfied: numpy in /usr/local/lib/python3.9/dist-packages (from lightgbm) (1.22.4)\n",
            "Requirement already satisfied: wheel in /usr/local/lib/python3.9/dist-packages (from lightgbm) (0.40.0)\n",
            "Requirement already satisfied: scipy in /usr/local/lib/python3.9/dist-packages (from lightgbm) (1.10.1)\n",
            "Requirement already satisfied: joblib>=1.1.1 in /usr/local/lib/python3.9/dist-packages (from scikit-learn!=0.22.0->lightgbm) (1.1.1)\n",
            "Requirement already satisfied: threadpoolctl>=2.0.0 in /usr/local/lib/python3.9/dist-packages (from scikit-learn!=0.22.0->lightgbm) (3.1.0)\n"
          ]
        }
      ]
    },
    {
      "cell_type": "code",
      "source": [
        "from lightgbm import LGBMClassifier"
      ],
      "metadata": {
        "id": "I0FkyOg3PzE_"
      },
      "execution_count": null,
      "outputs": []
    },
    {
      "cell_type": "code",
      "source": [
        "lgbclf = LGBMClassifier()\n",
        "lgbclf.fit(X_train,y_train)\n"
      ],
      "metadata": {
        "colab": {
          "base_uri": "https://localhost:8080/",
          "height": 75
        },
        "id": "G7eP6sGrQKx3",
        "outputId": "dd97fa54-68e8-46da-b502-6e997f473861"
      },
      "execution_count": null,
      "outputs": [
        {
          "output_type": "execute_result",
          "data": {
            "text/plain": [
              "LGBMClassifier()"
            ],
            "text/html": [
              "<style>#sk-container-id-8 {color: black;background-color: white;}#sk-container-id-8 pre{padding: 0;}#sk-container-id-8 div.sk-toggleable {background-color: white;}#sk-container-id-8 label.sk-toggleable__label {cursor: pointer;display: block;width: 100%;margin-bottom: 0;padding: 0.3em;box-sizing: border-box;text-align: center;}#sk-container-id-8 label.sk-toggleable__label-arrow:before {content: \"▸\";float: left;margin-right: 0.25em;color: #696969;}#sk-container-id-8 label.sk-toggleable__label-arrow:hover:before {color: black;}#sk-container-id-8 div.sk-estimator:hover label.sk-toggleable__label-arrow:before {color: black;}#sk-container-id-8 div.sk-toggleable__content {max-height: 0;max-width: 0;overflow: hidden;text-align: left;background-color: #f0f8ff;}#sk-container-id-8 div.sk-toggleable__content pre {margin: 0.2em;color: black;border-radius: 0.25em;background-color: #f0f8ff;}#sk-container-id-8 input.sk-toggleable__control:checked~div.sk-toggleable__content {max-height: 200px;max-width: 100%;overflow: auto;}#sk-container-id-8 input.sk-toggleable__control:checked~label.sk-toggleable__label-arrow:before {content: \"▾\";}#sk-container-id-8 div.sk-estimator input.sk-toggleable__control:checked~label.sk-toggleable__label {background-color: #d4ebff;}#sk-container-id-8 div.sk-label input.sk-toggleable__control:checked~label.sk-toggleable__label {background-color: #d4ebff;}#sk-container-id-8 input.sk-hidden--visually {border: 0;clip: rect(1px 1px 1px 1px);clip: rect(1px, 1px, 1px, 1px);height: 1px;margin: -1px;overflow: hidden;padding: 0;position: absolute;width: 1px;}#sk-container-id-8 div.sk-estimator {font-family: monospace;background-color: #f0f8ff;border: 1px dotted black;border-radius: 0.25em;box-sizing: border-box;margin-bottom: 0.5em;}#sk-container-id-8 div.sk-estimator:hover {background-color: #d4ebff;}#sk-container-id-8 div.sk-parallel-item::after {content: \"\";width: 100%;border-bottom: 1px solid gray;flex-grow: 1;}#sk-container-id-8 div.sk-label:hover label.sk-toggleable__label {background-color: #d4ebff;}#sk-container-id-8 div.sk-serial::before {content: \"\";position: absolute;border-left: 1px solid gray;box-sizing: border-box;top: 0;bottom: 0;left: 50%;z-index: 0;}#sk-container-id-8 div.sk-serial {display: flex;flex-direction: column;align-items: center;background-color: white;padding-right: 0.2em;padding-left: 0.2em;position: relative;}#sk-container-id-8 div.sk-item {position: relative;z-index: 1;}#sk-container-id-8 div.sk-parallel {display: flex;align-items: stretch;justify-content: center;background-color: white;position: relative;}#sk-container-id-8 div.sk-item::before, #sk-container-id-8 div.sk-parallel-item::before {content: \"\";position: absolute;border-left: 1px solid gray;box-sizing: border-box;top: 0;bottom: 0;left: 50%;z-index: -1;}#sk-container-id-8 div.sk-parallel-item {display: flex;flex-direction: column;z-index: 1;position: relative;background-color: white;}#sk-container-id-8 div.sk-parallel-item:first-child::after {align-self: flex-end;width: 50%;}#sk-container-id-8 div.sk-parallel-item:last-child::after {align-self: flex-start;width: 50%;}#sk-container-id-8 div.sk-parallel-item:only-child::after {width: 0;}#sk-container-id-8 div.sk-dashed-wrapped {border: 1px dashed gray;margin: 0 0.4em 0.5em 0.4em;box-sizing: border-box;padding-bottom: 0.4em;background-color: white;}#sk-container-id-8 div.sk-label label {font-family: monospace;font-weight: bold;display: inline-block;line-height: 1.2em;}#sk-container-id-8 div.sk-label-container {text-align: center;}#sk-container-id-8 div.sk-container {/* jupyter's `normalize.less` sets `[hidden] { display: none; }` but bootstrap.min.css set `[hidden] { display: none !important; }` so we also need the `!important` here to be able to override the default hidden behavior on the sphinx rendered scikit-learn.org. See: https://github.com/scikit-learn/scikit-learn/issues/21755 */display: inline-block !important;position: relative;}#sk-container-id-8 div.sk-text-repr-fallback {display: none;}</style><div id=\"sk-container-id-8\" class=\"sk-top-container\"><div class=\"sk-text-repr-fallback\"><pre>LGBMClassifier()</pre><b>In a Jupyter environment, please rerun this cell to show the HTML representation or trust the notebook. <br />On GitHub, the HTML representation is unable to render, please try loading this page with nbviewer.org.</b></div><div class=\"sk-container\" hidden><div class=\"sk-item\"><div class=\"sk-estimator sk-toggleable\"><input class=\"sk-toggleable__control sk-hidden--visually\" id=\"sk-estimator-id-8\" type=\"checkbox\" checked><label for=\"sk-estimator-id-8\" class=\"sk-toggleable__label sk-toggleable__label-arrow\">LGBMClassifier</label><div class=\"sk-toggleable__content\"><pre>LGBMClassifier()</pre></div></div></div></div></div>"
            ]
          },
          "metadata": {},
          "execution_count": 137
        }
      ]
    },
    {
      "cell_type": "code",
      "source": [
        "y_pred = lgbclf.predict(X_test)"
      ],
      "metadata": {
        "id": "W3DMeFLuPyfs"
      },
      "execution_count": null,
      "outputs": []
    },
    {
      "cell_type": "code",
      "source": [
        "from sklearn.metrics import confusion_matrix\n",
        "\n",
        "plt.figure(figsize=(15, 10))\n",
        "sns.heatmap(confusion_matrix(y_test,\n",
        "                 y_pred), annot=True,\n",
        "                 fmt=\"d\");"
      ],
      "metadata": {
        "id": "_lHgNQhxRRoa",
        "colab": {
          "base_uri": "https://localhost:8080/",
          "height": 593
        },
        "outputId": "77abed1b-7349-41c1-e3f4-b0ab82de3068"
      },
      "execution_count": null,
      "outputs": [
        {
          "output_type": "display_data",
          "data": {
            "text/plain": [
              "<Figure size 1080x720 with 2 Axes>"
            ],
            "image/png": "[encoded data removed]"
          },
          "metadata": {
            "needs_background": "light"
          }
        }
      ]
    },
    {
      "cell_type": "markdown",
      "source": [
        "### Ensemble - RandomForestClassifier"
      ],
      "metadata": {
        "id": "bKjEDe4ZRpUr"
      }
    },
    {
      "cell_type": "code",
      "source": [
        "from sklearn.ensemble import RandomForestClassifier"
      ],
      "metadata": {
        "id": "f6w9TY_yPyZ3"
      },
      "execution_count": null,
      "outputs": []
    },
    {
      "cell_type": "code",
      "source": [
        "rfgreg = RandomForestClassifier()\n",
        "rfgreg.fit(X_train, y_train)"
      ],
      "metadata": {
        "id": "iB0ZJggaPyTm",
        "colab": {
          "base_uri": "https://localhost:8080/",
          "height": 75
        },
        "outputId": "ad6f46d6-f57c-4c7b-b496-f170993e55ff"
      },
      "execution_count": null,
      "outputs": [
        {
          "output_type": "execute_result",
          "data": {
            "text/plain": [
              "RandomForestClassifier()"
            ],
            "text/html": [
              "<style>#sk-container-id-9 {color: black;background-color: white;}#sk-container-id-9 pre{padding: 0;}#sk-container-id-9 div.sk-toggleable {background-color: white;}#sk-container-id-9 label.sk-toggleable__label {cursor: pointer;display: block;width: 100%;margin-bottom: 0;padding: 0.3em;box-sizing: border-box;text-align: center;}#sk-container-id-9 label.sk-toggleable__label-arrow:before {content: \"▸\";float: left;margin-right: 0.25em;color: #696969;}#sk-container-id-9 label.sk-toggleable__label-arrow:hover:before {color: black;}#sk-container-id-9 div.sk-estimator:hover label.sk-toggleable__label-arrow:before {color: black;}#sk-container-id-9 div.sk-toggleable__content {max-height: 0;max-width: 0;overflow: hidden;text-align: left;background-color: #f0f8ff;}#sk-container-id-9 div.sk-toggleable__content pre {margin: 0.2em;color: black;border-radius: 0.25em;background-color: #f0f8ff;}#sk-container-id-9 input.sk-toggleable__control:checked~div.sk-toggleable__content {max-height: 200px;max-width: 100%;overflow: auto;}#sk-container-id-9 input.sk-toggleable__control:checked~label.sk-toggleable__label-arrow:before {content: \"▾\";}#sk-container-id-9 div.sk-estimator input.sk-toggleable__control:checked~label.sk-toggleable__label {background-color: #d4ebff;}#sk-container-id-9 div.sk-label input.sk-toggleable__control:checked~label.sk-toggleable__label {background-color: #d4ebff;}#sk-container-id-9 input.sk-hidden--visually {border: 0;clip: rect(1px 1px 1px 1px);clip: rect(1px, 1px, 1px, 1px);height: 1px;margin: -1px;overflow: hidden;padding: 0;position: absolute;width: 1px;}#sk-container-id-9 div.sk-estimator {font-family: monospace;background-color: #f0f8ff;border: 1px dotted black;border-radius: 0.25em;box-sizing: border-box;margin-bottom: 0.5em;}#sk-container-id-9 div.sk-estimator:hover {background-color: #d4ebff;}#sk-container-id-9 div.sk-parallel-item::after {content: \"\";width: 100%;border-bottom: 1px solid gray;flex-grow: 1;}#sk-container-id-9 div.sk-label:hover label.sk-toggleable__label {background-color: #d4ebff;}#sk-container-id-9 div.sk-serial::before {content: \"\";position: absolute;border-left: 1px solid gray;box-sizing: border-box;top: 0;bottom: 0;left: 50%;z-index: 0;}#sk-container-id-9 div.sk-serial {display: flex;flex-direction: column;align-items: center;background-color: white;padding-right: 0.2em;padding-left: 0.2em;position: relative;}#sk-container-id-9 div.sk-item {position: relative;z-index: 1;}#sk-container-id-9 div.sk-parallel {display: flex;align-items: stretch;justify-content: center;background-color: white;position: relative;}#sk-container-id-9 div.sk-item::before, #sk-container-id-9 div.sk-parallel-item::before {content: \"\";position: absolute;border-left: 1px solid gray;box-sizing: border-box;top: 0;bottom: 0;left: 50%;z-index: -1;}#sk-container-id-9 div.sk-parallel-item {display: flex;flex-direction: column;z-index: 1;position: relative;background-color: white;}#sk-container-id-9 div.sk-parallel-item:first-child::after {align-self: flex-end;width: 50%;}#sk-container-id-9 div.sk-parallel-item:last-child::after {align-self: flex-start;width: 50%;}#sk-container-id-9 div.sk-parallel-item:only-child::after {width: 0;}#sk-container-id-9 div.sk-dashed-wrapped {border: 1px dashed gray;margin: 0 0.4em 0.5em 0.4em;box-sizing: border-box;padding-bottom: 0.4em;background-color: white;}#sk-container-id-9 div.sk-label label {font-family: monospace;font-weight: bold;display: inline-block;line-height: 1.2em;}#sk-container-id-9 div.sk-label-container {text-align: center;}#sk-container-id-9 div.sk-container {/* jupyter's `normalize.less` sets `[hidden] { display: none; }` but bootstrap.min.css set `[hidden] { display: none !important; }` so we also need the `!important` here to be able to override the default hidden behavior on the sphinx rendered scikit-learn.org. See: https://github.com/scikit-learn/scikit-learn/issues/21755 */display: inline-block !important;position: relative;}#sk-container-id-9 div.sk-text-repr-fallback {display: none;}</style><div id=\"sk-container-id-9\" class=\"sk-top-container\"><div class=\"sk-text-repr-fallback\"><pre>RandomForestClassifier()</pre><b>In a Jupyter environment, please rerun this cell to show the HTML representation or trust the notebook. <br />On GitHub, the HTML representation is unable to render, please try loading this page with nbviewer.org.</b></div><div class=\"sk-container\" hidden><div class=\"sk-item\"><div class=\"sk-estimator sk-toggleable\"><input class=\"sk-toggleable__control sk-hidden--visually\" id=\"sk-estimator-id-9\" type=\"checkbox\" checked><label for=\"sk-estimator-id-9\" class=\"sk-toggleable__label sk-toggleable__label-arrow\">RandomForestClassifier</label><div class=\"sk-toggleable__content\"><pre>RandomForestClassifier()</pre></div></div></div></div></div>"
            ]
          },
          "metadata": {},
          "execution_count": 144
        }
      ]
    },
    {
      "cell_type": "code",
      "source": [
        "y_pred = rfgreg.predict(X_test)"
      ],
      "metadata": {
        "id": "3uZas9mpPyL1"
      },
      "execution_count": null,
      "outputs": []
    },
    {
      "cell_type": "code",
      "source": [
        "\n",
        "from sklearn.metrics import confusion_matrix\n",
        "\n",
        "plt.figure(figsize=(15, 10))\n",
        "sns.heatmap(confusion_matrix(y_test,\n",
        "                 y_pred), annot=True,\n",
        "                 fmt=\"d\");"
      ],
      "metadata": {
        "id": "ApL87fjIRlKT",
        "colab": {
          "base_uri": "https://localhost:8080/",
          "height": 593
        },
        "outputId": "06af2b7d-69ff-4d5c-fbc6-ab4b4ad1993f"
      },
      "execution_count": null,
      "outputs": [
        {
          "output_type": "display_data",
          "data": {
            "text/plain": [
              "<Figure size 1080x720 with 2 Axes>"
            ],
            "image/png": "[encoded data removed]"
          },
          "metadata": {
            "needs_background": "light"
          }
        }
      ]
    },
    {
      "cell_type": "code",
      "source": [],
      "metadata": {
        "id": "SWhrAvzw0SRd"
      },
      "execution_count": null,
      "outputs": []
    }
  ],
  "metadata": {
    "colab": {
      "provenance": []
    },
    "kernelspec": {
      "display_name": "Python 3",
      "name": "python3"
    },
    "language_info": {
      "name": "python"
    }
  },
  "nbformat": 4,
  "nbformat_minor": 0
}